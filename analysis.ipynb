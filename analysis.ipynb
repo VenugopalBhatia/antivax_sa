{
 "metadata": {
  "language_info": {
   "codemirror_mode": {
    "name": "ipython",
    "version": 3
   },
   "file_extension": ".py",
   "mimetype": "text/x-python",
   "name": "python",
   "nbconvert_exporter": "python",
   "pygments_lexer": "ipython3",
   "version": "3.7.6"
  },
  "orig_nbformat": 4,
  "kernelspec": {
   "name": "python3",
   "display_name": "Python 3.7.6 64-bit ('base': conda)"
  },
  "interpreter": {
   "hash": "d4e689affbe18adfb32a0cdbbd21e967cd9823358f6cd1aa055e9fc7dbf02bc1"
  }
 },
 "nbformat": 4,
 "nbformat_minor": 2,
 "cells": [
  {
   "cell_type": "code",
   "execution_count": 102,
   "metadata": {},
   "outputs": [
    {
     "output_type": "execute_result",
     "data": {
      "text/plain": [
       "<module 'models.hyperopt_pt' from 'c:\\\\Users\\\\venug\\\\Desktop\\\\antivax_sa\\\\models\\\\hyperopt_pt.py'>"
      ]
     },
     "metadata": {},
     "execution_count": 102
    }
   ],
   "source": [
    "import pandas as pd\n",
    "import importlib\n",
    "import seaborn as sns\n",
    "import preprocessing\n",
    "from hyperopt import fmin, tpe, hp, STATUS_OK, Trials\n",
    "from models import vader_sa as vader\n",
    "from models import afinn_sa as afinn\n",
    "from models import hyperopt_pt as optimizer\n",
    "import utils\n",
    "importlib.reload(optimizer)"
   ]
  },
  {
   "source": [
    "# Agenda\n",
    "<ol>\n",
    "\n",
    "<li> Create method for basic cleaning, removing retweet tags,etc. </li>\n",
    "<li> Create method for POS tagging and lemmatization </li>\n",
    "<li> Run Sentiment analysis on data with basic cleaning using Vader and Afinn. </li>\n",
    "<li> Train multiple classifiers including Naive Bayes and SVMs on the data. Use HyperOpt for hyperparameter tuning. Also selecting the best model using HyperOpt-sklearn. </li>\n",
    "<li> Write method to tag messages as neutral if average classification probability in the neighbourhood of 0.5, possibly give more weightage to Vader/Affin output </li>\n",
    "<li> Setup twitter api to get the entire tweets using tweet ids. Use tweepy to connect to twitter api. </li>\n",
    "<li> Setup apis for fb and reddit to be able to access vaccine related posts to enhance model. </li>"
   ],
   "cell_type": "markdown",
   "metadata": {}
  },
  {
   "cell_type": "code",
   "execution_count": 35,
   "metadata": {},
   "outputs": [],
   "source": [
    "preprocessor = preprocessing.Preprocessor()"
   ]
  },
  {
   "cell_type": "code",
   "execution_count": 151,
   "metadata": {},
   "outputs": [],
   "source": [
    "df_tweets = pd.read_csv(r'./data/vaccine_labeled_tweets.csv',index_col=0)"
   ]
  },
  {
   "cell_type": "code",
   "execution_count": 39,
   "metadata": {},
   "outputs": [
    {
     "output_type": "execute_result",
     "data": {
      "text/plain": [
       "            tweetid  inreplyuserid   friendscount        userid  \\\n",
       "count  1.000000e+04   1.000000e+04   10000.000000  1.000000e+04   \n",
       "mean   1.383379e+18   4.807362e+16    1303.354900  4.815039e+17   \n",
       "std    2.890019e+13   2.334947e+17    4606.207082  5.685077e+17   \n",
       "min    1.383327e+18  -1.000000e+00       0.000000  1.406830e+05   \n",
       "25%    1.383355e+18  -1.000000e+00     192.000000  3.300326e+08   \n",
       "50%    1.383378e+18  -1.000000e+00     488.000000  2.926940e+09   \n",
       "75%    1.383404e+18  -1.000000e+00    1253.250000  1.094894e+18   \n",
       "max    1.383427e+18   1.382914e+18  272394.000000  1.383424e+18   \n",
       "\n",
       "       favoritecount  followerscount  inreplytweetid  retweetcount  annotation  \n",
       "count        10000.0    1.000000e+04    1.000000e+04       10000.0     10000.0  \n",
       "mean             0.0    1.273950e+04    1.766206e+17           0.0         1.0  \n",
       "std              0.0    1.988503e+05    4.616376e+17           0.0         0.0  \n",
       "min              0.0    0.000000e+00   -1.000000e+00           0.0         1.0  \n",
       "25%              0.0    8.600000e+01   -1.000000e+00           0.0         1.0  \n",
       "50%              0.0    3.250000e+02   -1.000000e+00           0.0         1.0  \n",
       "75%              0.0    1.279250e+03   -1.000000e+00           0.0         1.0  \n",
       "max              0.0    7.832936e+06    1.383427e+18           0.0         1.0  "
      ],
      "text/html": "<div>\n<style scoped>\n    .dataframe tbody tr th:only-of-type {\n        vertical-align: middle;\n    }\n\n    .dataframe tbody tr th {\n        vertical-align: top;\n    }\n\n    .dataframe thead th {\n        text-align: right;\n    }\n</style>\n<table border=\"1\" class=\"dataframe\">\n  <thead>\n    <tr style=\"text-align: right;\">\n      <th></th>\n      <th>tweetid</th>\n      <th>inreplyuserid</th>\n      <th>friendscount</th>\n      <th>userid</th>\n      <th>favoritecount</th>\n      <th>followerscount</th>\n      <th>inreplytweetid</th>\n      <th>retweetcount</th>\n      <th>annotation</th>\n    </tr>\n  </thead>\n  <tbody>\n    <tr>\n      <th>count</th>\n      <td>1.000000e+04</td>\n      <td>1.000000e+04</td>\n      <td>10000.000000</td>\n      <td>1.000000e+04</td>\n      <td>10000.0</td>\n      <td>1.000000e+04</td>\n      <td>1.000000e+04</td>\n      <td>10000.0</td>\n      <td>10000.0</td>\n    </tr>\n    <tr>\n      <th>mean</th>\n      <td>1.383379e+18</td>\n      <td>4.807362e+16</td>\n      <td>1303.354900</td>\n      <td>4.815039e+17</td>\n      <td>0.0</td>\n      <td>1.273950e+04</td>\n      <td>1.766206e+17</td>\n      <td>0.0</td>\n      <td>1.0</td>\n    </tr>\n    <tr>\n      <th>std</th>\n      <td>2.890019e+13</td>\n      <td>2.334947e+17</td>\n      <td>4606.207082</td>\n      <td>5.685077e+17</td>\n      <td>0.0</td>\n      <td>1.988503e+05</td>\n      <td>4.616376e+17</td>\n      <td>0.0</td>\n      <td>0.0</td>\n    </tr>\n    <tr>\n      <th>min</th>\n      <td>1.383327e+18</td>\n      <td>-1.000000e+00</td>\n      <td>0.000000</td>\n      <td>1.406830e+05</td>\n      <td>0.0</td>\n      <td>0.000000e+00</td>\n      <td>-1.000000e+00</td>\n      <td>0.0</td>\n      <td>1.0</td>\n    </tr>\n    <tr>\n      <th>25%</th>\n      <td>1.383355e+18</td>\n      <td>-1.000000e+00</td>\n      <td>192.000000</td>\n      <td>3.300326e+08</td>\n      <td>0.0</td>\n      <td>8.600000e+01</td>\n      <td>-1.000000e+00</td>\n      <td>0.0</td>\n      <td>1.0</td>\n    </tr>\n    <tr>\n      <th>50%</th>\n      <td>1.383378e+18</td>\n      <td>-1.000000e+00</td>\n      <td>488.000000</td>\n      <td>2.926940e+09</td>\n      <td>0.0</td>\n      <td>3.250000e+02</td>\n      <td>-1.000000e+00</td>\n      <td>0.0</td>\n      <td>1.0</td>\n    </tr>\n    <tr>\n      <th>75%</th>\n      <td>1.383404e+18</td>\n      <td>-1.000000e+00</td>\n      <td>1253.250000</td>\n      <td>1.094894e+18</td>\n      <td>0.0</td>\n      <td>1.279250e+03</td>\n      <td>-1.000000e+00</td>\n      <td>0.0</td>\n      <td>1.0</td>\n    </tr>\n    <tr>\n      <th>max</th>\n      <td>1.383427e+18</td>\n      <td>1.382914e+18</td>\n      <td>272394.000000</td>\n      <td>1.383424e+18</td>\n      <td>0.0</td>\n      <td>7.832936e+06</td>\n      <td>1.383427e+18</td>\n      <td>0.0</td>\n      <td>1.0</td>\n    </tr>\n  </tbody>\n</table>\n</div>"
     },
     "metadata": {},
     "execution_count": 39
    }
   ],
   "source": [
    "df_pro = pd.read_csv(r'./data/vaccine_pro.csv')\n",
    "df_pro.describe()\n",
    "# df_pro['message'].drop_duplicates()"
   ]
  },
  {
   "cell_type": "code",
   "execution_count": 40,
   "metadata": {},
   "outputs": [],
   "source": [
    "df_anti = pd.read_csv(r'./data/vaccine_anti.csv')\n",
    "# df_anti['message'].drop_duplicates()"
   ]
  },
  {
   "cell_type": "code",
   "execution_count": 41,
   "metadata": {},
   "outputs": [
    {
     "output_type": "execute_result",
     "data": {
      "text/plain": [
       "Index(['tweetid', 'name', 'inreplyuserid', 'createdat', 'timezone',\n",
       "       'friendscount', 'accountcreated', 'location', 'userid', 'xcoordinate',\n",
       "       'message', 'screenname', 'favoritecount', 'followerscount',\n",
       "       'inreplytweetid', 'retweetcount', 'utcoffset', 'ycoordinate',\n",
       "       'dataagent', 'place', 'inreplyscreenname', 'category', 'annotation'],\n",
       "      dtype='object')"
      ]
     },
     "metadata": {},
     "execution_count": 41
    }
   ],
   "source": [
    "df_anti.columns"
   ]
  },
  {
   "cell_type": "code",
   "execution_count": 42,
   "metadata": {},
   "outputs": [],
   "source": [
    "df_tweetData = df_pro[['message','annotation']].drop_duplicates()\n",
    "df_neg = df_anti[['message','annotation']].drop_duplicates()\n",
    "df_tweetData = df_tweetData.append(df_neg,ignore_index = True)"
   ]
  },
  {
   "cell_type": "code",
   "execution_count": 43,
   "metadata": {},
   "outputs": [],
   "source": [
    "preprocessor.simple_clean(df_tweetData,'message','message_cleaned')\n",
    "preprocessor.clean_tweets(df_tweetData,'message_cleaned','message_tokenized')\n",
    "preprocessor.lemmatize_tweets(df_tweetData,'message_tokenized','message_tokens_lemmatized')"
   ]
  },
  {
   "cell_type": "code",
   "execution_count": 44,
   "metadata": {},
   "outputs": [
    {
     "output_type": "execute_result",
     "data": {
      "text/plain": [
       "                                                message  annotation  \\\n",
       "0     RT @DrEricDing: 📍Huge—Latin America’s main Sin...           1   \n",
       "1     @virsanghvi The competencies and qualification...           1   \n",
       "2     First vaccination = done. https://t.co/MG0mFnrG9q           1   \n",
       "3     @SreeIyer1 @Swamy39 Now let$q$s focus on threa...           1   \n",
       "4     @Cpgaf1 @SenSchumer I agree with pausing the J...           1   \n",
       "...                                                 ...         ...   \n",
       "8309  Ayrshire woman demands answers after son, 20, ...          -1   \n",
       "8310  The failure to secure sufficient vaccine suppl...          -1   \n",
       "8311  @libtard_cuck @ProlongingCovid @snowride70 The...          -1   \n",
       "8312  @WFIUNews WEDNESDAY INDIANA #COVID19 VACCINE N...          -1   \n",
       "8313  RT @B1ack_Woman: When someone voluntarily twee...          -1   \n",
       "\n",
       "          retweeted_from                                     mentions  \\\n",
       "0      [RT @DrEricDing:]                                 [DrEricDing]   \n",
       "1                     []                                 [virsanghvi]   \n",
       "2                     []                                           []   \n",
       "3                     []                         [SreeIyer1, Swamy39]   \n",
       "4                     []                         [Cpgaf1, SenSchumer]   \n",
       "...                  ...                                          ...   \n",
       "8309                  []                                           []   \n",
       "8310                  []                                           []   \n",
       "8311                  []  [libtard_cuck, ProlongingCovid, snowride70]   \n",
       "8312                  []                                   [WFIUNews]   \n",
       "8313  [RT @B1ack_Woman:]                                [B1ack_Woman]   \n",
       "\n",
       "       hashtags                      links  \\\n",
       "0     [COVID19]                         []   \n",
       "1            []                         []   \n",
       "2            []  [https://t.co/MG0mFnrG9q]   \n",
       "3            []                         []   \n",
       "4            []                         []   \n",
       "...         ...                        ...   \n",
       "8309         []  [https://t.co/mMSCBKnVk0]   \n",
       "8310         []  [https://t.co/IaGwcdTTfQ]   \n",
       "8311         []                         []   \n",
       "8312  [COVID19]                         []   \n",
       "8313         []                         []   \n",
       "\n",
       "                                        message_cleaned  \\\n",
       "0     Huge Latin America s main Sinovac  CoronaVac  ...   \n",
       "1     The competencies and qualifications of ministe...   \n",
       "2                              First vaccination   done   \n",
       "3     Now let q s focus on threat of Covaxin also Pe...   \n",
       "4     I agree with pausing the J J vaccine  but I al...   \n",
       "...                                                 ...   \n",
       "8309  Ayrshire woman demands answers after son  20  ...   \n",
       "8310  The failure to secure sufficient vaccine suppl...   \n",
       "8311  The conspiracy theory that includes economic c...   \n",
       "8312  WEDNESDAY INDIANA  COVID19 VACCINE NUMBERS    ...   \n",
       "8313  When someone voluntarily tweets about the side...   \n",
       "\n",
       "                                      message_tokenized  \\\n",
       "0     [Huge, Latin, America, main, Sinovac, CoronaVa...   \n",
       "1     [competencies, qualifications, ministers, well...   \n",
       "2                            [First, vaccination, done]   \n",
       "3     [let, q, focus, threat, Covaxin, also, People,...   \n",
       "4     [agree, pausing, J, J, vaccine, also, think, n...   \n",
       "...                                                 ...   \n",
       "8309  [Ayrshire, woman, demands, answers, son, 20, d...   \n",
       "8310  [failure, secure, sufficient, vaccine, supply,...   \n",
       "8311  [conspiracy, theory, includes, economic, colla...   \n",
       "8312  [WEDNESDAY, INDIANA, COVID19, VACCINE, NUMBERS...   \n",
       "8313  [someone, voluntarily, tweets, side, effects, ...   \n",
       "\n",
       "                              message_tokens_lemmatized  \n",
       "0     [huge, latin, america, main, sinovac, coronava...  \n",
       "1     [competency, qualification, minister, well, kn...  \n",
       "2                              [first, vaccination, do]  \n",
       "3     [let, q, focus, threat, covaxin, also, people,...  \n",
       "4     [agree, pause, j, j, vaccine, also, think, nee...  \n",
       "...                                                 ...  \n",
       "8309  [ayrshire, woman, demand, answer, son, 20, dy,...  \n",
       "8310  [failure, secure, sufficient, vaccine, supply,...  \n",
       "8311  [conspiracy, theory, include, economic, collap...  \n",
       "8312  [wednesday, indiana, covid19, vaccine, numbers...  \n",
       "8313  [someone, voluntarily, tweet, side, effect, va...  \n",
       "\n",
       "[8314 rows x 9 columns]"
      ],
      "text/html": "<div>\n<style scoped>\n    .dataframe tbody tr th:only-of-type {\n        vertical-align: middle;\n    }\n\n    .dataframe tbody tr th {\n        vertical-align: top;\n    }\n\n    .dataframe thead th {\n        text-align: right;\n    }\n</style>\n<table border=\"1\" class=\"dataframe\">\n  <thead>\n    <tr style=\"text-align: right;\">\n      <th></th>\n      <th>message</th>\n      <th>annotation</th>\n      <th>retweeted_from</th>\n      <th>mentions</th>\n      <th>hashtags</th>\n      <th>links</th>\n      <th>message_cleaned</th>\n      <th>message_tokenized</th>\n      <th>message_tokens_lemmatized</th>\n    </tr>\n  </thead>\n  <tbody>\n    <tr>\n      <th>0</th>\n      <td>RT @DrEricDing: 📍Huge—Latin America’s main Sin...</td>\n      <td>1</td>\n      <td>[RT @DrEricDing:]</td>\n      <td>[DrEricDing]</td>\n      <td>[COVID19]</td>\n      <td>[]</td>\n      <td>Huge Latin America s main Sinovac  CoronaVac  ...</td>\n      <td>[Huge, Latin, America, main, Sinovac, CoronaVa...</td>\n      <td>[huge, latin, america, main, sinovac, coronava...</td>\n    </tr>\n    <tr>\n      <th>1</th>\n      <td>@virsanghvi The competencies and qualification...</td>\n      <td>1</td>\n      <td>[]</td>\n      <td>[virsanghvi]</td>\n      <td>[]</td>\n      <td>[]</td>\n      <td>The competencies and qualifications of ministe...</td>\n      <td>[competencies, qualifications, ministers, well...</td>\n      <td>[competency, qualification, minister, well, kn...</td>\n    </tr>\n    <tr>\n      <th>2</th>\n      <td>First vaccination = done. https://t.co/MG0mFnrG9q</td>\n      <td>1</td>\n      <td>[]</td>\n      <td>[]</td>\n      <td>[]</td>\n      <td>[https://t.co/MG0mFnrG9q]</td>\n      <td>First vaccination   done</td>\n      <td>[First, vaccination, done]</td>\n      <td>[first, vaccination, do]</td>\n    </tr>\n    <tr>\n      <th>3</th>\n      <td>@SreeIyer1 @Swamy39 Now let$q$s focus on threa...</td>\n      <td>1</td>\n      <td>[]</td>\n      <td>[SreeIyer1, Swamy39]</td>\n      <td>[]</td>\n      <td>[]</td>\n      <td>Now let q s focus on threat of Covaxin also Pe...</td>\n      <td>[let, q, focus, threat, Covaxin, also, People,...</td>\n      <td>[let, q, focus, threat, covaxin, also, people,...</td>\n    </tr>\n    <tr>\n      <th>4</th>\n      <td>@Cpgaf1 @SenSchumer I agree with pausing the J...</td>\n      <td>1</td>\n      <td>[]</td>\n      <td>[Cpgaf1, SenSchumer]</td>\n      <td>[]</td>\n      <td>[]</td>\n      <td>I agree with pausing the J J vaccine  but I al...</td>\n      <td>[agree, pausing, J, J, vaccine, also, think, n...</td>\n      <td>[agree, pause, j, j, vaccine, also, think, nee...</td>\n    </tr>\n    <tr>\n      <th>...</th>\n      <td>...</td>\n      <td>...</td>\n      <td>...</td>\n      <td>...</td>\n      <td>...</td>\n      <td>...</td>\n      <td>...</td>\n      <td>...</td>\n      <td>...</td>\n    </tr>\n    <tr>\n      <th>8309</th>\n      <td>Ayrshire woman demands answers after son, 20, ...</td>\n      <td>-1</td>\n      <td>[]</td>\n      <td>[]</td>\n      <td>[]</td>\n      <td>[https://t.co/mMSCBKnVk0]</td>\n      <td>Ayrshire woman demands answers after son  20  ...</td>\n      <td>[Ayrshire, woman, demands, answers, son, 20, d...</td>\n      <td>[ayrshire, woman, demand, answer, son, 20, dy,...</td>\n    </tr>\n    <tr>\n      <th>8310</th>\n      <td>The failure to secure sufficient vaccine suppl...</td>\n      <td>-1</td>\n      <td>[]</td>\n      <td>[]</td>\n      <td>[]</td>\n      <td>[https://t.co/IaGwcdTTfQ]</td>\n      <td>The failure to secure sufficient vaccine suppl...</td>\n      <td>[failure, secure, sufficient, vaccine, supply,...</td>\n      <td>[failure, secure, sufficient, vaccine, supply,...</td>\n    </tr>\n    <tr>\n      <th>8311</th>\n      <td>@libtard_cuck @ProlongingCovid @snowride70 The...</td>\n      <td>-1</td>\n      <td>[]</td>\n      <td>[libtard_cuck, ProlongingCovid, snowride70]</td>\n      <td>[]</td>\n      <td>[]</td>\n      <td>The conspiracy theory that includes economic c...</td>\n      <td>[conspiracy, theory, includes, economic, colla...</td>\n      <td>[conspiracy, theory, include, economic, collap...</td>\n    </tr>\n    <tr>\n      <th>8312</th>\n      <td>@WFIUNews WEDNESDAY INDIANA #COVID19 VACCINE N...</td>\n      <td>-1</td>\n      <td>[]</td>\n      <td>[WFIUNews]</td>\n      <td>[COVID19]</td>\n      <td>[]</td>\n      <td>WEDNESDAY INDIANA  COVID19 VACCINE NUMBERS    ...</td>\n      <td>[WEDNESDAY, INDIANA, COVID19, VACCINE, NUMBERS...</td>\n      <td>[wednesday, indiana, covid19, vaccine, numbers...</td>\n    </tr>\n    <tr>\n      <th>8313</th>\n      <td>RT @B1ack_Woman: When someone voluntarily twee...</td>\n      <td>-1</td>\n      <td>[RT @B1ack_Woman:]</td>\n      <td>[B1ack_Woman]</td>\n      <td>[]</td>\n      <td>[]</td>\n      <td>When someone voluntarily tweets about the side...</td>\n      <td>[someone, voluntarily, tweets, side, effects, ...</td>\n      <td>[someone, voluntarily, tweet, side, effect, va...</td>\n    </tr>\n  </tbody>\n</table>\n<p>8314 rows × 9 columns</p>\n</div>"
     },
     "metadata": {},
     "execution_count": 44
    }
   ],
   "source": [
    "df_tweetData"
   ]
  },
  {
   "source": [
    "## VADER & afinn based sentiment analysis"
   ],
   "cell_type": "markdown",
   "metadata": {}
  },
  {
   "cell_type": "code",
   "execution_count": 45,
   "metadata": {},
   "outputs": [
    {
     "output_type": "execute_result",
     "data": {
      "text/plain": [
       "                                                message  annotation  \\\n",
       "0     RT @DrEricDing: 📍Huge—Latin America’s main Sin...           1   \n",
       "1     @virsanghvi The competencies and qualification...           1   \n",
       "2     First vaccination = done. https://t.co/MG0mFnrG9q           1   \n",
       "3     @SreeIyer1 @Swamy39 Now let$q$s focus on threa...           1   \n",
       "4     @Cpgaf1 @SenSchumer I agree with pausing the J...           1   \n",
       "...                                                 ...         ...   \n",
       "8309  Ayrshire woman demands answers after son, 20, ...          -1   \n",
       "8310  The failure to secure sufficient vaccine suppl...          -1   \n",
       "8311  @libtard_cuck @ProlongingCovid @snowride70 The...          -1   \n",
       "8312  @WFIUNews WEDNESDAY INDIANA #COVID19 VACCINE N...          -1   \n",
       "8313  RT @B1ack_Woman: When someone voluntarily twee...          -1   \n",
       "\n",
       "          retweeted_from                                     mentions  \\\n",
       "0      [RT @DrEricDing:]                                 [DrEricDing]   \n",
       "1                     []                                 [virsanghvi]   \n",
       "2                     []                                           []   \n",
       "3                     []                         [SreeIyer1, Swamy39]   \n",
       "4                     []                         [Cpgaf1, SenSchumer]   \n",
       "...                  ...                                          ...   \n",
       "8309                  []                                           []   \n",
       "8310                  []                                           []   \n",
       "8311                  []  [libtard_cuck, ProlongingCovid, snowride70]   \n",
       "8312                  []                                   [WFIUNews]   \n",
       "8313  [RT @B1ack_Woman:]                                [B1ack_Woman]   \n",
       "\n",
       "       hashtags                      links  \\\n",
       "0     [COVID19]                         []   \n",
       "1            []                         []   \n",
       "2            []  [https://t.co/MG0mFnrG9q]   \n",
       "3            []                         []   \n",
       "4            []                         []   \n",
       "...         ...                        ...   \n",
       "8309         []  [https://t.co/mMSCBKnVk0]   \n",
       "8310         []  [https://t.co/IaGwcdTTfQ]   \n",
       "8311         []                         []   \n",
       "8312  [COVID19]                         []   \n",
       "8313         []                         []   \n",
       "\n",
       "                                        message_cleaned  \\\n",
       "0     Huge Latin America s main Sinovac  CoronaVac  ...   \n",
       "1     The competencies and qualifications of ministe...   \n",
       "2                              First vaccination   done   \n",
       "3     Now let q s focus on threat of Covaxin also Pe...   \n",
       "4     I agree with pausing the J J vaccine  but I al...   \n",
       "...                                                 ...   \n",
       "8309  Ayrshire woman demands answers after son  20  ...   \n",
       "8310  The failure to secure sufficient vaccine suppl...   \n",
       "8311  The conspiracy theory that includes economic c...   \n",
       "8312  WEDNESDAY INDIANA  COVID19 VACCINE NUMBERS    ...   \n",
       "8313  When someone voluntarily tweets about the side...   \n",
       "\n",
       "                                      message_tokenized  \\\n",
       "0     [Huge, Latin, America, main, Sinovac, CoronaVa...   \n",
       "1     [competencies, qualifications, ministers, well...   \n",
       "2                            [First, vaccination, done]   \n",
       "3     [let, q, focus, threat, Covaxin, also, People,...   \n",
       "4     [agree, pausing, J, J, vaccine, also, think, n...   \n",
       "...                                                 ...   \n",
       "8309  [Ayrshire, woman, demands, answers, son, 20, d...   \n",
       "8310  [failure, secure, sufficient, vaccine, supply,...   \n",
       "8311  [conspiracy, theory, includes, economic, colla...   \n",
       "8312  [WEDNESDAY, INDIANA, COVID19, VACCINE, NUMBERS...   \n",
       "8313  [someone, voluntarily, tweets, side, effects, ...   \n",
       "\n",
       "                              message_tokens_lemmatized  \\\n",
       "0     [huge, latin, america, main, sinovac, coronava...   \n",
       "1     [competency, qualification, minister, well, kn...   \n",
       "2                              [first, vaccination, do]   \n",
       "3     [let, q, focus, threat, covaxin, also, people,...   \n",
       "4     [agree, pause, j, j, vaccine, also, think, nee...   \n",
       "...                                                 ...   \n",
       "8309  [ayrshire, woman, demand, answer, son, 20, dy,...   \n",
       "8310  [failure, secure, sufficient, vaccine, supply,...   \n",
       "8311  [conspiracy, theory, include, economic, collap...   \n",
       "8312  [wednesday, indiana, covid19, vaccine, numbers...   \n",
       "8313  [someone, voluntarily, tweet, side, effect, va...   \n",
       "\n",
       "                                             vader_dict  vader_neg  vader_neu  \\\n",
       "0     {'neg': 0.049, 'neu': 0.711, 'pos': 0.24, 'com...      0.049      0.711   \n",
       "1     {'neg': 0.0, 'neu': 0.784, 'pos': 0.216, 'comp...      0.000      0.784   \n",
       "2     {'neg': 0.0, 'neu': 1.0, 'pos': 0.0, 'compound...      0.000      1.000   \n",
       "3     {'neg': 0.103, 'neu': 0.758, 'pos': 0.139, 'co...      0.103      0.758   \n",
       "4     {'neg': 0.054, 'neu': 0.834, 'pos': 0.112, 'co...      0.054      0.834   \n",
       "...                                                 ...        ...        ...   \n",
       "8309  {'neg': 0.0, 'neu': 1.0, 'pos': 0.0, 'compound...      0.000      1.000   \n",
       "8310  {'neg': 0.261, 'neu': 0.662, 'pos': 0.077, 'co...      0.261      0.662   \n",
       "8311  {'neg': 0.375, 'neu': 0.625, 'pos': 0.0, 'comp...      0.375      0.625   \n",
       "8312  {'neg': 0.0, 'neu': 1.0, 'pos': 0.0, 'compound...      0.000      1.000   \n",
       "8313  {'neg': 0.234, 'neu': 0.766, 'pos': 0.0, 'comp...      0.234      0.766   \n",
       "\n",
       "      vader_pos  vader_compound  afinn_score  \n",
       "0         0.240          0.6486          0.0  \n",
       "1         0.216          0.8910          8.0  \n",
       "2         0.000          0.0000          0.0  \n",
       "3         0.139          0.0516         -1.0  \n",
       "4         0.112          0.3291          0.0  \n",
       "...         ...             ...          ...  \n",
       "8309      0.000          0.0000         -1.0  \n",
       "8310      0.077         -0.8625         -9.0  \n",
       "8311      0.000         -0.8625         -6.0  \n",
       "8312      0.000          0.0000          0.0  \n",
       "8313      0.000         -0.7506         -4.0  \n",
       "\n",
       "[8314 rows x 15 columns]"
      ],
      "text/html": "<div>\n<style scoped>\n    .dataframe tbody tr th:only-of-type {\n        vertical-align: middle;\n    }\n\n    .dataframe tbody tr th {\n        vertical-align: top;\n    }\n\n    .dataframe thead th {\n        text-align: right;\n    }\n</style>\n<table border=\"1\" class=\"dataframe\">\n  <thead>\n    <tr style=\"text-align: right;\">\n      <th></th>\n      <th>message</th>\n      <th>annotation</th>\n      <th>retweeted_from</th>\n      <th>mentions</th>\n      <th>hashtags</th>\n      <th>links</th>\n      <th>message_cleaned</th>\n      <th>message_tokenized</th>\n      <th>message_tokens_lemmatized</th>\n      <th>vader_dict</th>\n      <th>vader_neg</th>\n      <th>vader_neu</th>\n      <th>vader_pos</th>\n      <th>vader_compound</th>\n      <th>afinn_score</th>\n    </tr>\n  </thead>\n  <tbody>\n    <tr>\n      <th>0</th>\n      <td>RT @DrEricDing: 📍Huge—Latin America’s main Sin...</td>\n      <td>1</td>\n      <td>[RT @DrEricDing:]</td>\n      <td>[DrEricDing]</td>\n      <td>[COVID19]</td>\n      <td>[]</td>\n      <td>Huge Latin America s main Sinovac  CoronaVac  ...</td>\n      <td>[Huge, Latin, America, main, Sinovac, CoronaVa...</td>\n      <td>[huge, latin, america, main, sinovac, coronava...</td>\n      <td>{'neg': 0.049, 'neu': 0.711, 'pos': 0.24, 'com...</td>\n      <td>0.049</td>\n      <td>0.711</td>\n      <td>0.240</td>\n      <td>0.6486</td>\n      <td>0.0</td>\n    </tr>\n    <tr>\n      <th>1</th>\n      <td>@virsanghvi The competencies and qualification...</td>\n      <td>1</td>\n      <td>[]</td>\n      <td>[virsanghvi]</td>\n      <td>[]</td>\n      <td>[]</td>\n      <td>The competencies and qualifications of ministe...</td>\n      <td>[competencies, qualifications, ministers, well...</td>\n      <td>[competency, qualification, minister, well, kn...</td>\n      <td>{'neg': 0.0, 'neu': 0.784, 'pos': 0.216, 'comp...</td>\n      <td>0.000</td>\n      <td>0.784</td>\n      <td>0.216</td>\n      <td>0.8910</td>\n      <td>8.0</td>\n    </tr>\n    <tr>\n      <th>2</th>\n      <td>First vaccination = done. https://t.co/MG0mFnrG9q</td>\n      <td>1</td>\n      <td>[]</td>\n      <td>[]</td>\n      <td>[]</td>\n      <td>[https://t.co/MG0mFnrG9q]</td>\n      <td>First vaccination   done</td>\n      <td>[First, vaccination, done]</td>\n      <td>[first, vaccination, do]</td>\n      <td>{'neg': 0.0, 'neu': 1.0, 'pos': 0.0, 'compound...</td>\n      <td>0.000</td>\n      <td>1.000</td>\n      <td>0.000</td>\n      <td>0.0000</td>\n      <td>0.0</td>\n    </tr>\n    <tr>\n      <th>3</th>\n      <td>@SreeIyer1 @Swamy39 Now let$q$s focus on threa...</td>\n      <td>1</td>\n      <td>[]</td>\n      <td>[SreeIyer1, Swamy39]</td>\n      <td>[]</td>\n      <td>[]</td>\n      <td>Now let q s focus on threat of Covaxin also Pe...</td>\n      <td>[let, q, focus, threat, Covaxin, also, People,...</td>\n      <td>[let, q, focus, threat, covaxin, also, people,...</td>\n      <td>{'neg': 0.103, 'neu': 0.758, 'pos': 0.139, 'co...</td>\n      <td>0.103</td>\n      <td>0.758</td>\n      <td>0.139</td>\n      <td>0.0516</td>\n      <td>-1.0</td>\n    </tr>\n    <tr>\n      <th>4</th>\n      <td>@Cpgaf1 @SenSchumer I agree with pausing the J...</td>\n      <td>1</td>\n      <td>[]</td>\n      <td>[Cpgaf1, SenSchumer]</td>\n      <td>[]</td>\n      <td>[]</td>\n      <td>I agree with pausing the J J vaccine  but I al...</td>\n      <td>[agree, pausing, J, J, vaccine, also, think, n...</td>\n      <td>[agree, pause, j, j, vaccine, also, think, nee...</td>\n      <td>{'neg': 0.054, 'neu': 0.834, 'pos': 0.112, 'co...</td>\n      <td>0.054</td>\n      <td>0.834</td>\n      <td>0.112</td>\n      <td>0.3291</td>\n      <td>0.0</td>\n    </tr>\n    <tr>\n      <th>...</th>\n      <td>...</td>\n      <td>...</td>\n      <td>...</td>\n      <td>...</td>\n      <td>...</td>\n      <td>...</td>\n      <td>...</td>\n      <td>...</td>\n      <td>...</td>\n      <td>...</td>\n      <td>...</td>\n      <td>...</td>\n      <td>...</td>\n      <td>...</td>\n      <td>...</td>\n    </tr>\n    <tr>\n      <th>8309</th>\n      <td>Ayrshire woman demands answers after son, 20, ...</td>\n      <td>-1</td>\n      <td>[]</td>\n      <td>[]</td>\n      <td>[]</td>\n      <td>[https://t.co/mMSCBKnVk0]</td>\n      <td>Ayrshire woman demands answers after son  20  ...</td>\n      <td>[Ayrshire, woman, demands, answers, son, 20, d...</td>\n      <td>[ayrshire, woman, demand, answer, son, 20, dy,...</td>\n      <td>{'neg': 0.0, 'neu': 1.0, 'pos': 0.0, 'compound...</td>\n      <td>0.000</td>\n      <td>1.000</td>\n      <td>0.000</td>\n      <td>0.0000</td>\n      <td>-1.0</td>\n    </tr>\n    <tr>\n      <th>8310</th>\n      <td>The failure to secure sufficient vaccine suppl...</td>\n      <td>-1</td>\n      <td>[]</td>\n      <td>[]</td>\n      <td>[]</td>\n      <td>[https://t.co/IaGwcdTTfQ]</td>\n      <td>The failure to secure sufficient vaccine suppl...</td>\n      <td>[failure, secure, sufficient, vaccine, supply,...</td>\n      <td>[failure, secure, sufficient, vaccine, supply,...</td>\n      <td>{'neg': 0.261, 'neu': 0.662, 'pos': 0.077, 'co...</td>\n      <td>0.261</td>\n      <td>0.662</td>\n      <td>0.077</td>\n      <td>-0.8625</td>\n      <td>-9.0</td>\n    </tr>\n    <tr>\n      <th>8311</th>\n      <td>@libtard_cuck @ProlongingCovid @snowride70 The...</td>\n      <td>-1</td>\n      <td>[]</td>\n      <td>[libtard_cuck, ProlongingCovid, snowride70]</td>\n      <td>[]</td>\n      <td>[]</td>\n      <td>The conspiracy theory that includes economic c...</td>\n      <td>[conspiracy, theory, includes, economic, colla...</td>\n      <td>[conspiracy, theory, include, economic, collap...</td>\n      <td>{'neg': 0.375, 'neu': 0.625, 'pos': 0.0, 'comp...</td>\n      <td>0.375</td>\n      <td>0.625</td>\n      <td>0.000</td>\n      <td>-0.8625</td>\n      <td>-6.0</td>\n    </tr>\n    <tr>\n      <th>8312</th>\n      <td>@WFIUNews WEDNESDAY INDIANA #COVID19 VACCINE N...</td>\n      <td>-1</td>\n      <td>[]</td>\n      <td>[WFIUNews]</td>\n      <td>[COVID19]</td>\n      <td>[]</td>\n      <td>WEDNESDAY INDIANA  COVID19 VACCINE NUMBERS    ...</td>\n      <td>[WEDNESDAY, INDIANA, COVID19, VACCINE, NUMBERS...</td>\n      <td>[wednesday, indiana, covid19, vaccine, numbers...</td>\n      <td>{'neg': 0.0, 'neu': 1.0, 'pos': 0.0, 'compound...</td>\n      <td>0.000</td>\n      <td>1.000</td>\n      <td>0.000</td>\n      <td>0.0000</td>\n      <td>0.0</td>\n    </tr>\n    <tr>\n      <th>8313</th>\n      <td>RT @B1ack_Woman: When someone voluntarily twee...</td>\n      <td>-1</td>\n      <td>[RT @B1ack_Woman:]</td>\n      <td>[B1ack_Woman]</td>\n      <td>[]</td>\n      <td>[]</td>\n      <td>When someone voluntarily tweets about the side...</td>\n      <td>[someone, voluntarily, tweets, side, effects, ...</td>\n      <td>[someone, voluntarily, tweet, side, effect, va...</td>\n      <td>{'neg': 0.234, 'neu': 0.766, 'pos': 0.0, 'comp...</td>\n      <td>0.234</td>\n      <td>0.766</td>\n      <td>0.000</td>\n      <td>-0.7506</td>\n      <td>-4.0</td>\n    </tr>\n  </tbody>\n</table>\n<p>8314 rows × 15 columns</p>\n</div>"
     },
     "metadata": {},
     "execution_count": 45
    }
   ],
   "source": [
    "df_vader = vader.sentiment_scores(df_tweetData,'message_cleaned')\n",
    "df_vader.columns = 'vader_' + df_vader.columns\n",
    "df_tweetData = df_tweetData.join(df_vader)\n",
    "afinn.sentiment_scores(df_tweetData,'message_cleaned')\n",
    "df_tweetData"
   ]
  },
  {
   "source": [
    "## Bayesian Hyperparameter tuning for various ML models\n",
    "### Models included: 'svm','naive_bayes','knn','random_forest','decision_tree'\n",
    "### Models trained using 5 fold stratified CV. \n",
    "### Number of Features also treated as a Hyperparameter.\n"
   ],
   "cell_type": "markdown",
   "metadata": {}
  },
  {
   "cell_type": "code",
   "execution_count": 169,
   "metadata": {},
   "outputs": [
    {
     "output_type": "stream",
     "name": "stdout",
     "text": [
      "100%|██████████| 50/50 [02:17<00:00,  2.74s/trial, best loss: -0.8581922829502885]\n"
     ]
    },
    {
     "output_type": "execute_result",
     "data": {
      "text/plain": [
       "({'alpha': 1.5976361142068052, 'numFeatures': 2124},\n",
       " <hyperopt.base.Trials at 0x2ab9317c888>)"
      ]
     },
     "metadata": {},
     "execution_count": 169
    }
   ],
   "source": [
    "NB = optimizer.optimize_model(model = 'naive_bayes', algo = tpe.suggest,max_evals = 50,df = df_tweetData,message_tokenized = 'message_tokens_lemmatized',x = 'feature',y='annotation')\n",
    "NB.get_optimum_hyperparameters()"
   ]
  },
  {
   "cell_type": "code",
   "execution_count": 51,
   "metadata": {},
   "outputs": [
    {
     "output_type": "stream",
     "name": "stdout",
     "text": [
      "100%|██████████| 50/50 [01:03<00:00,  1.26s/trial, best loss: -0.7957669327393913]\n"
     ]
    },
    {
     "output_type": "execute_result",
     "data": {
      "text/plain": [
       "({'criterion': 1,\n",
       "  'max_depth': 14,\n",
       "  'max_features': 2,\n",
       "  'n_estimators': 16,\n",
       "  'numFeatures': 194},\n",
       " <hyperopt.base.Trials at 0x2abdcb49488>)"
      ]
     },
     "metadata": {},
     "execution_count": 51
    }
   ],
   "source": [
    "randomForest = optimizer.optimize_model(model = 'random_forest', algo = tpe.suggest,max_evals = 50,df = df_tweetData,message_tokenized = 'message_tokens_lemmatized',x = 'feature',y='annotation')\n",
    "randomForest.get_optimum_hyperparameters()"
   ]
  },
  {
   "cell_type": "code",
   "execution_count": 157,
   "metadata": {},
   "outputs": [],
   "source": [
    "SVC = optimizer.optimize_model(model = 'svm', algo = tpe.suggest,max_evals = 50,df = df_tweetData,message_tokenized = 'message_tokens_lemmatized',x = 'feature',y='annotation')\n",
    "SVC.get_optimum_hyperparameters()"
   ]
  },
  {
   "cell_type": "code",
   "execution_count": 48,
   "metadata": {},
   "outputs": [
    {
     "output_type": "stream",
     "name": "stdout",
     "text": [
      "100%|██████████| 50/50 [07:30<00:00,  9.01s/trial, best loss: -0.7522255822014207]\n"
     ]
    },
    {
     "output_type": "execute_result",
     "data": {
      "text/plain": [
       "({'criterion': 0, 'max_depth': 17, 'numFeatures': 1858},\n",
       " <hyperopt.base.Trials at 0x2abd92fb588>)"
      ]
     },
     "metadata": {},
     "execution_count": 48
    }
   ],
   "source": [
    "decision_tree = optimizer.optimize_model(model = 'decision_tree', algo = tpe.suggest,max_evals = 50,df = df_tweetData,message_tokenized = 'message_tokens_lemmatized',x = 'feature',y='annotation')\n",
    "decision_tree.get_optimum_hyperparameters()"
   ]
  },
  {
   "cell_type": "code",
   "execution_count": 49,
   "metadata": {},
   "outputs": [
    {
     "output_type": "stream",
     "name": "stdout",
     "text": [
      "100%|██████████| 50/50 [2:18:20<00:00, 166.01s/trial, best loss: -0.7430858357701021]\n"
     ]
    },
    {
     "output_type": "execute_result",
     "data": {
      "text/plain": [
       "({'knn_n_neighbors': 5, 'numFeatures': 953},\n",
       " <hyperopt.base.Trials at 0x2abd94a7f08>)"
      ]
     },
     "metadata": {},
     "execution_count": 49
    }
   ],
   "source": [
    "knn = optimizer.optimize_model(model = 'knn', algo = tpe.suggest,max_evals = 50,df = df_tweetData,message_tokenized = 'message_tokens_lemmatized',x = 'feature',y='annotation')\n",
    "knn.get_optimum_hyperparameters()"
   ]
  },
  {
   "cell_type": "code",
   "execution_count": 65,
   "metadata": {},
   "outputs": [
    {
     "output_type": "stream",
     "name": "stdout",
     "text": [
      "Word Cloud Saved Successfully\n"
     ]
    },
    {
     "output_type": "display_data",
     "data": {
      "text/plain": "<PIL.PngImagePlugin.PngImageFile image mode=RGB size=400x200 at 0x2ABDB9EDDC8>",
      "image/png": "[encoded data removed]"
     },
     "metadata": {}
    }
   ],
   "source": [
    "utils.create_wordcloud(df_tweetData.loc[df_tweetData['annotation'] == -1,'lemmatized_message'].values,'wc_neg')"
   ]
  },
  {
   "source": [
    "## Preparing Test Data"
   ],
   "cell_type": "markdown",
   "metadata": {}
  },
  {
   "cell_type": "code",
   "execution_count": 152,
   "metadata": {},
   "outputs": [],
   "source": [
    "preprocessor.simple_clean(df_tweets,'Tweet','message_cleaned')\n",
    "preprocessor.clean_tweets(df_tweets,'message_cleaned','message_tokenized')\n",
    "preprocessor.lemmatize_tweets(df_tweets,'message_tokenized','message_tokens_lemmatized')"
   ]
  },
  {
   "cell_type": "code",
   "execution_count": 153,
   "metadata": {},
   "outputs": [],
   "source": [
    "df_tweets.loc[df_tweets['Nour_label'] == 1,'annotation'] = -1\n",
    "df_tweets.loc[df_tweets['Nour_label'] == 2,'annotation'] = 1\n",
    "\n"
   ]
  },
  {
   "cell_type": "code",
   "execution_count": 154,
   "metadata": {},
   "outputs": [],
   "source": [
    "df_tweets_test = df_tweets[(df_tweets['annotation'] == 1) | (df_tweets['annotation'] == -1)]"
   ]
  },
  {
   "cell_type": "code",
   "execution_count": 155,
   "metadata": {},
   "outputs": [
    {
     "output_type": "stream",
     "name": "stderr",
     "text": [
      "ipykernel_launcher:1: SettingWithCopyWarning: \nA value is trying to be set on a copy of a slice from a DataFrame.\nTry using .loc[row_indexer,col_indexer] = value instead\n\nSee the caveats in the documentation: https://pandas.pydata.org/pandas-docs/stable/user_guide/indexing.html#returning-a-view-versus-a-copy\n"
     ]
    }
   ],
   "source": [
    "df_tweets_test['lemmatized_message'] = df_tweets_test['message_tokens_lemmatized'].apply(lambda x: \" \".join(x))"
   ]
  },
  {
   "cell_type": "code",
   "execution_count": 136,
   "metadata": {},
   "outputs": [
    {
     "output_type": "execute_result",
     "data": {
      "text/plain": [
       "array([0.84485869, 0.84906795, 0.86951293, 0.85508118, 0.87063779])"
      ]
     },
     "metadata": {},
     "execution_count": 136
    }
   ],
   "source": [
    "##### get Bernoulli NB classifier and stratified cv scores trained on optimum parameters\n",
    "params = {\n",
    "    'alpha': 1.2164719490595255, 'numFeatures': 2500\n",
    "}\n",
    "scores_NB,clf = NB.train_model(params,get_model=True)\n",
    "scores_NB"
   ]
  },
  {
   "cell_type": "code",
   "execution_count": 137,
   "metadata": {},
   "outputs": [],
   "source": [
    "X = NB.count_vec.transform(df_tweets_test['lemmatized_message'].values)"
   ]
  },
  {
   "cell_type": "code",
   "execution_count": 138,
   "metadata": {},
   "outputs": [],
   "source": [
    "X_test = X.todense()\n",
    "y_test = df_tweets_test['annotation'].values"
   ]
  },
  {
   "cell_type": "code",
   "execution_count": 139,
   "metadata": {},
   "outputs": [
    {
     "output_type": "execute_result",
     "data": {
      "text/plain": [
       "0.6791979949874687"
      ]
     },
     "metadata": {},
     "execution_count": 139
    }
   ],
   "source": [
    "clf.score(X_test,y_test)"
   ]
  },
  {
   "cell_type": "code",
   "execution_count": 145,
   "metadata": {},
   "outputs": [],
   "source": [
    "df_tweets_test = df_tweets_test.reset_index()"
   ]
  },
  {
   "cell_type": "code",
   "execution_count": null,
   "metadata": {},
   "outputs": [],
   "source": [
    "##### get Bernoulli NB classifier and stratified cv scores trained on optimum parameters\n",
    "params = {\n",
    "    'alpha': 1.2164719490595255, 'numFeatures': 2500\n",
    "}\n",
    "scores_NB,clf = NB.train_model(params,get_model=True)\n",
    "scores_NB"
   ]
  },
  {
   "cell_type": "code",
   "execution_count": 159,
   "metadata": {},
   "outputs": [
    {
     "output_type": "execute_result",
     "data": {
      "text/plain": [
       "array([0.85508118, 0.86470235, 0.87853277, 0.8634997 , 0.877858  ])"
      ]
     },
     "metadata": {},
     "execution_count": 159
    }
   ],
   "source": [
    "params = {'C': 0.7688125245234239,\n",
    "  'gamma': 18.62738748302337,\n",
    "  'kernel': 'linear',\n",
    "  'numFeatures': 2189}\n",
    "SVC_scores,clf_SVC = SVC.train_model(params,get_model = True)\n",
    "SVC_scores"
   ]
  },
  {
   "cell_type": "code",
   "execution_count": 166,
   "metadata": {},
   "outputs": [],
   "source": [
    "X = SVC.count_vec.transform(df_tweets_test['lemmatized_message'].values)\n",
    "X_test = X.todense()\n",
    "y_test = df_tweets_test['annotation'].values"
   ]
  },
  {
   "cell_type": "code",
   "execution_count": 167,
   "metadata": {},
   "outputs": [
    {
     "output_type": "execute_result",
     "data": {
      "text/plain": [
       "0.6466165413533834"
      ]
     },
     "metadata": {},
     "execution_count": 167
    }
   ],
   "source": [
    "clf_SVC.score(X_test,y_test)"
   ]
  },
  {
   "cell_type": "code",
   "execution_count": 168,
   "metadata": {},
   "outputs": [
    {
     "output_type": "stream",
     "name": "stderr",
     "text": [
      "c:\\Users\\venug\\Desktop\\antivax_sa\\models\\vader_sa.py:8: SettingWithCopyWarning: \nA value is trying to be set on a copy of a slice from a DataFrame.\nTry using .loc[row_indexer,col_indexer] = value instead\n\nSee the caveats in the documentation: https://pandas.pydata.org/pandas-docs/stable/user_guide/indexing.html#returning-a-view-versus-a-copy\n  df['vader_dict'] = df[message_cleaned].apply(sid_obj.polarity_scores)\n"
     ]
    },
    {
     "output_type": "execute_result",
     "data": {
      "text/plain": [
       "                                                  Tweet  Nour_label  \\\n",
       "4     @growthpundit @naomirwolf There is no such thi...           2   \n",
       "6     So called \"anti-vax\" movement is a movement to...           1   \n",
       "8     You know you’ve been tricked when you want the...           1   \n",
       "13    RT @Saveitbruh: Still ain’t taking no vaccine ...           1   \n",
       "14    The news is saying \"there is no evidence of vo...           1   \n",
       "...                                                 ...         ...   \n",
       "2986  @yea_karen53 @StephMatuku @naomirwolf Herd imm...           2   \n",
       "2989  @WarHorseOnStage Some w/ life-threatening cond...           2   \n",
       "2991  @CacAnna @caaiinaa @Hugo80036337 @o_rips They’...           1   \n",
       "2995  Yes, vaccines cause autism if you let black pe...           1   \n",
       "2999  Joe is not magically making Corona virus go aw...           2   \n",
       "\n",
       "         retweeted_from                                           mentions  \\\n",
       "4                    []                         [growthpundit, naomirwolf]   \n",
       "6                    []                                                 []   \n",
       "8                    []                                                 []   \n",
       "13    [RT @Saveitbruh:]                                       [Saveitbruh]   \n",
       "14                   []                                                 []   \n",
       "...                 ...                                                ...   \n",
       "2986                 []             [yea_karen53, StephMatuku, naomirwolf]   \n",
       "2989                 []                                  [WarHorseOnStage]   \n",
       "2991                 []  [CacAnna, caaiinaa, Hugo80036337, o_rips, DrJu...   \n",
       "2995                 []                                                 []   \n",
       "2999                 []                                                 []   \n",
       "\n",
       "                                     hashtags                      links  \\\n",
       "4                                          []                         []   \n",
       "6     [vaccine, HumanRights, InformedConsent]  [https://t.co/ep3rZcRfzT]   \n",
       "8                                          []                         []   \n",
       "13                                         []                         []   \n",
       "14                                         []                         []   \n",
       "...                                       ...                        ...   \n",
       "2986                                       []                         []   \n",
       "2989                                       []                         []   \n",
       "2991                                       []                         []   \n",
       "2995                                       []                         []   \n",
       "2999                                       []                         []   \n",
       "\n",
       "                                        message_cleaned  \\\n",
       "4     There is no such thing as herd immunity unless...   \n",
       "6     So called  anti vax  movement is a movement to...   \n",
       "8     You know you ve been tricked when you want the...   \n",
       "13    Still ain t taking no vaccine   if that shit e...   \n",
       "14    The news is saying  there is no evidence of vo...   \n",
       "...                                                 ...   \n",
       "2986  Herd immunity is literally how humanity has ov...   \n",
       "2989  Some w  life threatening conditions will still...   \n",
       "2991  They re already admitting to the nanotechnolog...   \n",
       "2995  Yes  vaccines cause autism if you let black pe...   \n",
       "2999  Joe is not magically making Corona virus go aw...   \n",
       "\n",
       "                                      message_tokenized  \\\n",
       "4              [thing, herd, immunity, unless, vaccine]   \n",
       "6     [called, anti, vax, movement, movement, acknow...   \n",
       "8     [know, tricked, want, thing, news, media, want...   \n",
       "13           [Still, taking, vaccine, shit, ever, come]   \n",
       "14    [news, saying, evidence, voter, fraud, Sounds,...   \n",
       "...                                                 ...   \n",
       "2986  [Herd, immunity, literally, humanity, overcome...   \n",
       "2989  [w, life, threatening, conditions, still, quar...   \n",
       "2991  [already, admitting, nanotechnology, dna, alte...   \n",
       "2995  [Yes, vaccines, cause, autism, let, black, peo...   \n",
       "2999  [Joe, magically, making, Corona, virus, go, aw...   \n",
       "\n",
       "                              message_tokens_lemmatized  annotation  \\\n",
       "4              [thing, herd, immunity, unless, vaccine]         1.0   \n",
       "6     [call, anti, vax, movement, movement, acknowle...        -1.0   \n",
       "8     [know, trick, want, thing, news, medium, want,...        -1.0   \n",
       "13             [still, take, vaccine, shit, ever, come]        -1.0   \n",
       "14    [news, say, evidence, voter, fraud, sounds, li...        -1.0   \n",
       "...                                                 ...         ...   \n",
       "2986  [herd, immunity, literally, humanity, overcome...         1.0   \n",
       "2989  [w, life, threaten, condition, still, quaranti...         1.0   \n",
       "2991  [already, admit, nanotechnology, dna, alter, n...        -1.0   \n",
       "2995  [yes, vaccine, cause, autism, let, black, peop...        -1.0   \n",
       "2999  [joe, magically, make, corona, virus, go, away...         1.0   \n",
       "\n",
       "                                     lemmatized_message  \\\n",
       "4                    thing herd immunity unless vaccine   \n",
       "6     call anti vax movement movement acknowledge va...   \n",
       "8     know trick want thing news medium want like bi...   \n",
       "13                    still take vaccine shit ever come   \n",
       "14    news say evidence voter fraud sounds like say ...   \n",
       "...                                                 ...   \n",
       "2986  herd immunity literally humanity overcome ever...   \n",
       "2989  w life threaten condition still quarantine awa...   \n",
       "2991  already admit nanotechnology dna alter nature ...   \n",
       "2995  yes vaccine cause autism let black people expl...   \n",
       "2999  joe magically make corona virus go away organi...   \n",
       "\n",
       "                                             vader_dict  vader_neg  vader_neu  \\\n",
       "4     {'neg': 0.155, 'neu': 0.845, 'pos': 0.0, 'comp...      0.054      0.834   \n",
       "6     {'neg': 0.239, 'neu': 0.551, 'pos': 0.21, 'com...      0.000      0.904   \n",
       "8     {'neg': 0.054, 'neu': 0.816, 'pos': 0.129, 'co...      0.000      0.718   \n",
       "13    {'neg': 0.367, 'neu': 0.633, 'pos': 0.0, 'comp...      0.174      0.717   \n",
       "14    {'neg': 0.219, 'neu': 0.68, 'pos': 0.1, 'compo...      0.000      1.000   \n",
       "...                                                 ...        ...        ...   \n",
       "2986  {'neg': 0.0, 'neu': 0.87, 'pos': 0.13, 'compou...      0.097      0.783   \n",
       "2989  {'neg': 0.092, 'neu': 0.643, 'pos': 0.264, 'co...      0.093      0.717   \n",
       "2991  {'neg': 0.116, 'neu': 0.763, 'pos': 0.121, 'co...      0.000      0.767   \n",
       "2995  {'neg': 0.0, 'neu': 0.94, 'pos': 0.06, 'compou...      0.000      0.820   \n",
       "2999  {'neg': 0.0, 'neu': 0.876, 'pos': 0.124, 'comp...      0.000      1.000   \n",
       "\n",
       "      vader_pos  vader_compound  afinn_score  \n",
       "4         0.112          0.3291         -1.0  \n",
       "6         0.096          0.1779         -4.0  \n",
       "8         0.282          0.7425          1.0  \n",
       "13        0.109         -0.1779         -5.0  \n",
       "14        0.000          0.0000         -5.0  \n",
       "...         ...             ...          ...  \n",
       "2986      0.120          0.1280          2.0  \n",
       "2989      0.190          0.5574          8.0  \n",
       "2991      0.233          0.7717          1.0  \n",
       "2995      0.180          0.5106          1.0  \n",
       "2999      0.000          0.0000          4.0  \n",
       "\n",
       "[798 rows x 17 columns]"
      ],
      "text/html": "<div>\n<style scoped>\n    .dataframe tbody tr th:only-of-type {\n        vertical-align: middle;\n    }\n\n    .dataframe tbody tr th {\n        vertical-align: top;\n    }\n\n    .dataframe thead th {\n        text-align: right;\n    }\n</style>\n<table border=\"1\" class=\"dataframe\">\n  <thead>\n    <tr style=\"text-align: right;\">\n      <th></th>\n      <th>Tweet</th>\n      <th>Nour_label</th>\n      <th>retweeted_from</th>\n      <th>mentions</th>\n      <th>hashtags</th>\n      <th>links</th>\n      <th>message_cleaned</th>\n      <th>message_tokenized</th>\n      <th>message_tokens_lemmatized</th>\n      <th>annotation</th>\n      <th>lemmatized_message</th>\n      <th>vader_dict</th>\n      <th>vader_neg</th>\n      <th>vader_neu</th>\n      <th>vader_pos</th>\n      <th>vader_compound</th>\n      <th>afinn_score</th>\n    </tr>\n  </thead>\n  <tbody>\n    <tr>\n      <th>4</th>\n      <td>@growthpundit @naomirwolf There is no such thi...</td>\n      <td>2</td>\n      <td>[]</td>\n      <td>[growthpundit, naomirwolf]</td>\n      <td>[]</td>\n      <td>[]</td>\n      <td>There is no such thing as herd immunity unless...</td>\n      <td>[thing, herd, immunity, unless, vaccine]</td>\n      <td>[thing, herd, immunity, unless, vaccine]</td>\n      <td>1.0</td>\n      <td>thing herd immunity unless vaccine</td>\n      <td>{'neg': 0.155, 'neu': 0.845, 'pos': 0.0, 'comp...</td>\n      <td>0.054</td>\n      <td>0.834</td>\n      <td>0.112</td>\n      <td>0.3291</td>\n      <td>-1.0</td>\n    </tr>\n    <tr>\n      <th>6</th>\n      <td>So called \"anti-vax\" movement is a movement to...</td>\n      <td>1</td>\n      <td>[]</td>\n      <td>[]</td>\n      <td>[vaccine, HumanRights, InformedConsent]</td>\n      <td>[https://t.co/ep3rZcRfzT]</td>\n      <td>So called  anti vax  movement is a movement to...</td>\n      <td>[called, anti, vax, movement, movement, acknow...</td>\n      <td>[call, anti, vax, movement, movement, acknowle...</td>\n      <td>-1.0</td>\n      <td>call anti vax movement movement acknowledge va...</td>\n      <td>{'neg': 0.239, 'neu': 0.551, 'pos': 0.21, 'com...</td>\n      <td>0.000</td>\n      <td>0.904</td>\n      <td>0.096</td>\n      <td>0.1779</td>\n      <td>-4.0</td>\n    </tr>\n    <tr>\n      <th>8</th>\n      <td>You know you’ve been tricked when you want the...</td>\n      <td>1</td>\n      <td>[]</td>\n      <td>[]</td>\n      <td>[]</td>\n      <td>[]</td>\n      <td>You know you ve been tricked when you want the...</td>\n      <td>[know, tricked, want, thing, news, media, want...</td>\n      <td>[know, trick, want, thing, news, medium, want,...</td>\n      <td>-1.0</td>\n      <td>know trick want thing news medium want like bi...</td>\n      <td>{'neg': 0.054, 'neu': 0.816, 'pos': 0.129, 'co...</td>\n      <td>0.000</td>\n      <td>0.718</td>\n      <td>0.282</td>\n      <td>0.7425</td>\n      <td>1.0</td>\n    </tr>\n    <tr>\n      <th>13</th>\n      <td>RT @Saveitbruh: Still ain’t taking no vaccine ...</td>\n      <td>1</td>\n      <td>[RT @Saveitbruh:]</td>\n      <td>[Saveitbruh]</td>\n      <td>[]</td>\n      <td>[]</td>\n      <td>Still ain t taking no vaccine   if that shit e...</td>\n      <td>[Still, taking, vaccine, shit, ever, come]</td>\n      <td>[still, take, vaccine, shit, ever, come]</td>\n      <td>-1.0</td>\n      <td>still take vaccine shit ever come</td>\n      <td>{'neg': 0.367, 'neu': 0.633, 'pos': 0.0, 'comp...</td>\n      <td>0.174</td>\n      <td>0.717</td>\n      <td>0.109</td>\n      <td>-0.1779</td>\n      <td>-5.0</td>\n    </tr>\n    <tr>\n      <th>14</th>\n      <td>The news is saying \"there is no evidence of vo...</td>\n      <td>1</td>\n      <td>[]</td>\n      <td>[]</td>\n      <td>[]</td>\n      <td>[]</td>\n      <td>The news is saying  there is no evidence of vo...</td>\n      <td>[news, saying, evidence, voter, fraud, Sounds,...</td>\n      <td>[news, say, evidence, voter, fraud, sounds, li...</td>\n      <td>-1.0</td>\n      <td>news say evidence voter fraud sounds like say ...</td>\n      <td>{'neg': 0.219, 'neu': 0.68, 'pos': 0.1, 'compo...</td>\n      <td>0.000</td>\n      <td>1.000</td>\n      <td>0.000</td>\n      <td>0.0000</td>\n      <td>-5.0</td>\n    </tr>\n    <tr>\n      <th>...</th>\n      <td>...</td>\n      <td>...</td>\n      <td>...</td>\n      <td>...</td>\n      <td>...</td>\n      <td>...</td>\n      <td>...</td>\n      <td>...</td>\n      <td>...</td>\n      <td>...</td>\n      <td>...</td>\n      <td>...</td>\n      <td>...</td>\n      <td>...</td>\n      <td>...</td>\n      <td>...</td>\n      <td>...</td>\n    </tr>\n    <tr>\n      <th>2986</th>\n      <td>@yea_karen53 @StephMatuku @naomirwolf Herd imm...</td>\n      <td>2</td>\n      <td>[]</td>\n      <td>[yea_karen53, StephMatuku, naomirwolf]</td>\n      <td>[]</td>\n      <td>[]</td>\n      <td>Herd immunity is literally how humanity has ov...</td>\n      <td>[Herd, immunity, literally, humanity, overcome...</td>\n      <td>[herd, immunity, literally, humanity, overcome...</td>\n      <td>1.0</td>\n      <td>herd immunity literally humanity overcome ever...</td>\n      <td>{'neg': 0.0, 'neu': 0.87, 'pos': 0.13, 'compou...</td>\n      <td>0.097</td>\n      <td>0.783</td>\n      <td>0.120</td>\n      <td>0.1280</td>\n      <td>2.0</td>\n    </tr>\n    <tr>\n      <th>2989</th>\n      <td>@WarHorseOnStage Some w/ life-threatening cond...</td>\n      <td>2</td>\n      <td>[]</td>\n      <td>[WarHorseOnStage]</td>\n      <td>[]</td>\n      <td>[]</td>\n      <td>Some w  life threatening conditions will still...</td>\n      <td>[w, life, threatening, conditions, still, quar...</td>\n      <td>[w, life, threaten, condition, still, quaranti...</td>\n      <td>1.0</td>\n      <td>w life threaten condition still quarantine awa...</td>\n      <td>{'neg': 0.092, 'neu': 0.643, 'pos': 0.264, 'co...</td>\n      <td>0.093</td>\n      <td>0.717</td>\n      <td>0.190</td>\n      <td>0.5574</td>\n      <td>8.0</td>\n    </tr>\n    <tr>\n      <th>2991</th>\n      <td>@CacAnna @caaiinaa @Hugo80036337 @o_rips They’...</td>\n      <td>1</td>\n      <td>[]</td>\n      <td>[CacAnna, caaiinaa, Hugo80036337, o_rips, DrJu...</td>\n      <td>[]</td>\n      <td>[]</td>\n      <td>They re already admitting to the nanotechnolog...</td>\n      <td>[already, admitting, nanotechnology, dna, alte...</td>\n      <td>[already, admit, nanotechnology, dna, alter, n...</td>\n      <td>-1.0</td>\n      <td>already admit nanotechnology dna alter nature ...</td>\n      <td>{'neg': 0.116, 'neu': 0.763, 'pos': 0.121, 'co...</td>\n      <td>0.000</td>\n      <td>0.767</td>\n      <td>0.233</td>\n      <td>0.7717</td>\n      <td>1.0</td>\n    </tr>\n    <tr>\n      <th>2995</th>\n      <td>Yes, vaccines cause autism if you let black pe...</td>\n      <td>1</td>\n      <td>[]</td>\n      <td>[]</td>\n      <td>[]</td>\n      <td>[]</td>\n      <td>Yes  vaccines cause autism if you let black pe...</td>\n      <td>[Yes, vaccines, cause, autism, let, black, peo...</td>\n      <td>[yes, vaccine, cause, autism, let, black, peop...</td>\n      <td>-1.0</td>\n      <td>yes vaccine cause autism let black people expl...</td>\n      <td>{'neg': 0.0, 'neu': 0.94, 'pos': 0.06, 'compou...</td>\n      <td>0.000</td>\n      <td>0.820</td>\n      <td>0.180</td>\n      <td>0.5106</td>\n      <td>1.0</td>\n    </tr>\n    <tr>\n      <th>2999</th>\n      <td>Joe is not magically making Corona virus go aw...</td>\n      <td>2</td>\n      <td>[]</td>\n      <td>[]</td>\n      <td>[]</td>\n      <td>[]</td>\n      <td>Joe is not magically making Corona virus go aw...</td>\n      <td>[Joe, magically, making, Corona, virus, go, aw...</td>\n      <td>[joe, magically, make, corona, virus, go, away...</td>\n      <td>1.0</td>\n      <td>joe magically make corona virus go away organi...</td>\n      <td>{'neg': 0.0, 'neu': 0.876, 'pos': 0.124, 'comp...</td>\n      <td>0.000</td>\n      <td>1.000</td>\n      <td>0.000</td>\n      <td>0.0000</td>\n      <td>4.0</td>\n    </tr>\n  </tbody>\n</table>\n<p>798 rows × 17 columns</p>\n</div>"
     },
     "metadata": {},
     "execution_count": 168
    }
   ],
   "source": [
    "df_vader_SVC = vader.sentiment_scores(df_tweets_test,'message_cleaned')\n",
    "df_vader_SVC.columns = 'vader_' + df_vader_SVC.columns\n",
    "df_tweets_test = df_tweets_test.join(df_vader)\n",
    "afinn.sentiment_scores(df_tweets_test,'message_cleaned')\n",
    "df_tweets_test"
   ]
  }
 ]
}
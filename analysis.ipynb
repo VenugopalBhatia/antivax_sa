{
 "metadata": {
  "language_info": {
   "codemirror_mode": {
    "name": "ipython",
    "version": 3
   },
   "file_extension": ".py",
   "mimetype": "text/x-python",
   "name": "python",
   "nbconvert_exporter": "python",
   "pygments_lexer": "ipython3",
   "version": "3.7.6"
  },
  "orig_nbformat": 4,
  "kernelspec": {
   "name": "python3",
   "display_name": "Python 3.7.6 64-bit ('base': conda)"
  },
  "interpreter": {
   "hash": "d4e689affbe18adfb32a0cdbbd21e967cd9823358f6cd1aa055e9fc7dbf02bc1"
  }
 },
 "nbformat": 4,
 "nbformat_minor": 2,
 "cells": [
  {
   "cell_type": "code",
   "execution_count": 10,
   "metadata": {},
   "outputs": [
    {
     "output_type": "execute_result",
     "data": {
      "text/plain": [
       "<module 'preprocessing' from 'c:\\\\Users\\\\venug\\\\Desktop\\\\antivax_sa\\\\preprocessing.py'>"
      ]
     },
     "metadata": {},
     "execution_count": 10
    }
   ],
   "source": [
    "import pandas as pd\n",
    "import importlib\n",
    "import seaborn as sns\n",
    "import nltk\n",
    "from nltk.tokenize import word_tokenize\n",
    "import string\n",
    "from nltk.corpus import stopwords\n",
    "import preprocessing\n",
    "importlib.reload(preprocessing)"
   ]
  },
  {
   "source": [
    "# Agenda\n",
    "<ol>\n",
    "\n",
    "<li> Create method for basic cleaning, removing retweet tags,etc. </li>\n",
    "<li> Create method for POS tagging and lemmatization </li>\n",
    "<li> Run Sentiment analysis on data with basic cleaning using Vader and Afinn. </li>\n",
    "<li> Train multiple classifiers including Naive Bayes and SVMs on the data. </li>\n",
    "<li> Write method to tag messages as neutral if average classification probability in the neighbourhood of 0.5, possibly give more weightage to Vader/Affin output </li>\n",
    "<li> Setup twitter api to get the entire tweets using tweet ids </li>\n",
    "<li> Setup apis for fb and reddit to be able to access vaccine related posts to enhance model. </li>"
   ],
   "cell_type": "markdown",
   "metadata": {}
  },
  {
   "cell_type": "code",
   "execution_count": 11,
   "metadata": {},
   "outputs": [],
   "source": [
    "preprocessor = preprocessing.Preprocessor()"
   ]
  },
  {
   "cell_type": "code",
   "execution_count": 3,
   "metadata": {},
   "outputs": [],
   "source": [
    "df_tweets = pd.read_csv(r'./data/vaccine_labeled_tweets.csv',index_col=0)"
   ]
  },
  {
   "cell_type": "code",
   "execution_count": 4,
   "metadata": {},
   "outputs": [
    {
     "output_type": "execute_result",
     "data": {
      "text/plain": [
       "            tweetid  inreplyuserid   friendscount        userid  \\\n",
       "count  1.000000e+04   1.000000e+04   10000.000000  1.000000e+04   \n",
       "mean   1.383379e+18   4.807362e+16    1303.354900  4.815039e+17   \n",
       "std    2.890019e+13   2.334947e+17    4606.207082  5.685077e+17   \n",
       "min    1.383327e+18  -1.000000e+00       0.000000  1.406830e+05   \n",
       "25%    1.383355e+18  -1.000000e+00     192.000000  3.300326e+08   \n",
       "50%    1.383378e+18  -1.000000e+00     488.000000  2.926940e+09   \n",
       "75%    1.383404e+18  -1.000000e+00    1253.250000  1.094894e+18   \n",
       "max    1.383427e+18   1.382914e+18  272394.000000  1.383424e+18   \n",
       "\n",
       "       favoritecount  followerscount  inreplytweetid  retweetcount  annotation  \n",
       "count        10000.0    1.000000e+04    1.000000e+04       10000.0     10000.0  \n",
       "mean             0.0    1.273950e+04    1.766206e+17           0.0         1.0  \n",
       "std              0.0    1.988503e+05    4.616376e+17           0.0         0.0  \n",
       "min              0.0    0.000000e+00   -1.000000e+00           0.0         1.0  \n",
       "25%              0.0    8.600000e+01   -1.000000e+00           0.0         1.0  \n",
       "50%              0.0    3.250000e+02   -1.000000e+00           0.0         1.0  \n",
       "75%              0.0    1.279250e+03   -1.000000e+00           0.0         1.0  \n",
       "max              0.0    7.832936e+06    1.383427e+18           0.0         1.0  "
      ],
      "text/html": "<div>\n<style scoped>\n    .dataframe tbody tr th:only-of-type {\n        vertical-align: middle;\n    }\n\n    .dataframe tbody tr th {\n        vertical-align: top;\n    }\n\n    .dataframe thead th {\n        text-align: right;\n    }\n</style>\n<table border=\"1\" class=\"dataframe\">\n  <thead>\n    <tr style=\"text-align: right;\">\n      <th></th>\n      <th>tweetid</th>\n      <th>inreplyuserid</th>\n      <th>friendscount</th>\n      <th>userid</th>\n      <th>favoritecount</th>\n      <th>followerscount</th>\n      <th>inreplytweetid</th>\n      <th>retweetcount</th>\n      <th>annotation</th>\n    </tr>\n  </thead>\n  <tbody>\n    <tr>\n      <th>count</th>\n      <td>1.000000e+04</td>\n      <td>1.000000e+04</td>\n      <td>10000.000000</td>\n      <td>1.000000e+04</td>\n      <td>10000.0</td>\n      <td>1.000000e+04</td>\n      <td>1.000000e+04</td>\n      <td>10000.0</td>\n      <td>10000.0</td>\n    </tr>\n    <tr>\n      <th>mean</th>\n      <td>1.383379e+18</td>\n      <td>4.807362e+16</td>\n      <td>1303.354900</td>\n      <td>4.815039e+17</td>\n      <td>0.0</td>\n      <td>1.273950e+04</td>\n      <td>1.766206e+17</td>\n      <td>0.0</td>\n      <td>1.0</td>\n    </tr>\n    <tr>\n      <th>std</th>\n      <td>2.890019e+13</td>\n      <td>2.334947e+17</td>\n      <td>4606.207082</td>\n      <td>5.685077e+17</td>\n      <td>0.0</td>\n      <td>1.988503e+05</td>\n      <td>4.616376e+17</td>\n      <td>0.0</td>\n      <td>0.0</td>\n    </tr>\n    <tr>\n      <th>min</th>\n      <td>1.383327e+18</td>\n      <td>-1.000000e+00</td>\n      <td>0.000000</td>\n      <td>1.406830e+05</td>\n      <td>0.0</td>\n      <td>0.000000e+00</td>\n      <td>-1.000000e+00</td>\n      <td>0.0</td>\n      <td>1.0</td>\n    </tr>\n    <tr>\n      <th>25%</th>\n      <td>1.383355e+18</td>\n      <td>-1.000000e+00</td>\n      <td>192.000000</td>\n      <td>3.300326e+08</td>\n      <td>0.0</td>\n      <td>8.600000e+01</td>\n      <td>-1.000000e+00</td>\n      <td>0.0</td>\n      <td>1.0</td>\n    </tr>\n    <tr>\n      <th>50%</th>\n      <td>1.383378e+18</td>\n      <td>-1.000000e+00</td>\n      <td>488.000000</td>\n      <td>2.926940e+09</td>\n      <td>0.0</td>\n      <td>3.250000e+02</td>\n      <td>-1.000000e+00</td>\n      <td>0.0</td>\n      <td>1.0</td>\n    </tr>\n    <tr>\n      <th>75%</th>\n      <td>1.383404e+18</td>\n      <td>-1.000000e+00</td>\n      <td>1253.250000</td>\n      <td>1.094894e+18</td>\n      <td>0.0</td>\n      <td>1.279250e+03</td>\n      <td>-1.000000e+00</td>\n      <td>0.0</td>\n      <td>1.0</td>\n    </tr>\n    <tr>\n      <th>max</th>\n      <td>1.383427e+18</td>\n      <td>1.382914e+18</td>\n      <td>272394.000000</td>\n      <td>1.383424e+18</td>\n      <td>0.0</td>\n      <td>7.832936e+06</td>\n      <td>1.383427e+18</td>\n      <td>0.0</td>\n      <td>1.0</td>\n    </tr>\n  </tbody>\n</table>\n</div>"
     },
     "metadata": {},
     "execution_count": 4
    }
   ],
   "source": [
    "df_pro = pd.read_csv(r'./data/vaccine_pro.csv')\n",
    "df_pro.describe()\n",
    "# df_pro['message'].drop_duplicates()"
   ]
  },
  {
   "cell_type": "code",
   "execution_count": 5,
   "metadata": {},
   "outputs": [],
   "source": [
    "df_anti = pd.read_csv(r'./data/vaccine_anti.csv')\n",
    "# df_anti['message'].drop_duplicates()"
   ]
  },
  {
   "cell_type": "code",
   "execution_count": 6,
   "metadata": {},
   "outputs": [
    {
     "output_type": "execute_result",
     "data": {
      "text/plain": [
       "Index(['tweetid', 'name', 'inreplyuserid', 'createdat', 'timezone',\n",
       "       'friendscount', 'accountcreated', 'location', 'userid', 'xcoordinate',\n",
       "       'message', 'screenname', 'favoritecount', 'followerscount',\n",
       "       'inreplytweetid', 'retweetcount', 'utcoffset', 'ycoordinate',\n",
       "       'dataagent', 'place', 'inreplyscreenname', 'category', 'annotation'],\n",
       "      dtype='object')"
      ]
     },
     "metadata": {},
     "execution_count": 6
    }
   ],
   "source": [
    "df_anti.columns"
   ]
  },
  {
   "cell_type": "code",
   "execution_count": 7,
   "metadata": {},
   "outputs": [],
   "source": [
    "df_tweetData = df_pro[['message','annotation']].drop_duplicates()\n",
    "df_neg = df_anti[['message','annotation']].drop_duplicates()\n",
    "df_tweetData = df_tweetData.append(df_neg,ignore_index = True)"
   ]
  },
  {
   "cell_type": "code",
   "execution_count": 12,
   "metadata": {},
   "outputs": [],
   "source": [
    "preprocessor.simple_clean(df_tweetData,'message','message_cleaned')\n",
    "preprocessor.clean_tweets(df_tweetData,'message_cleaned','message_tokenized')\n",
    "preprocessor.lemmatize_tweets(df_tweetData,'message_tokenized','message_tokens_lemmatized')"
   ]
  },
  {
   "cell_type": "code",
   "execution_count": 13,
   "metadata": {},
   "outputs": [
    {
     "output_type": "execute_result",
     "data": {
      "text/plain": [
       "                                                message  annotation  \\\n",
       "0     RT @DrEricDing: 📍Huge—Latin America’s main Sin...           1   \n",
       "1     @virsanghvi The competencies and qualification...           1   \n",
       "2     First vaccination = done. https://t.co/MG0mFnrG9q           1   \n",
       "3     @SreeIyer1 @Swamy39 Now let$q$s focus on threa...           1   \n",
       "4     @Cpgaf1 @SenSchumer I agree with pausing the J...           1   \n",
       "...                                                 ...         ...   \n",
       "8309  Ayrshire woman demands answers after son, 20, ...          -1   \n",
       "8310  The failure to secure sufficient vaccine suppl...          -1   \n",
       "8311  @libtard_cuck @ProlongingCovid @snowride70 The...          -1   \n",
       "8312  @WFIUNews WEDNESDAY INDIANA #COVID19 VACCINE N...          -1   \n",
       "8313  RT @B1ack_Woman: When someone voluntarily twee...          -1   \n",
       "\n",
       "          retweeted_from                                     mentions  \\\n",
       "0      [RT @DrEricDing:]                                 [DrEricDing]   \n",
       "1                     []                                 [virsanghvi]   \n",
       "2                     []                                           []   \n",
       "3                     []                         [SreeIyer1, Swamy39]   \n",
       "4                     []                         [Cpgaf1, SenSchumer]   \n",
       "...                  ...                                          ...   \n",
       "8309                  []                                           []   \n",
       "8310                  []                                           []   \n",
       "8311                  []  [libtard_cuck, ProlongingCovid, snowride70]   \n",
       "8312                  []                                   [WFIUNews]   \n",
       "8313  [RT @B1ack_Woman:]                                [B1ack_Woman]   \n",
       "\n",
       "       hashtags                      links  \\\n",
       "0     [COVID19]                         []   \n",
       "1            []                         []   \n",
       "2            []  [https://t.co/MG0mFnrG9q]   \n",
       "3            []                         []   \n",
       "4            []                         []   \n",
       "...         ...                        ...   \n",
       "8309         []  [https://t.co/mMSCBKnVk0]   \n",
       "8310         []  [https://t.co/IaGwcdTTfQ]   \n",
       "8311         []                         []   \n",
       "8312  [COVID19]                         []   \n",
       "8313         []                         []   \n",
       "\n",
       "                                        message_cleaned  \\\n",
       "0     📍Huge—Latin America’s main Sinovac (CoronaVac)...   \n",
       "1     The competencies and qualifications of ministe...   \n",
       "2                             First vaccination = done.   \n",
       "3     Now let$q$s focus on threat of Covaxin also.Pe...   \n",
       "4     I agree with pausing the J J vaccine, but I al...   \n",
       "...                                                 ...   \n",
       "8309  Ayrshire woman demands answers after son, 20, ...   \n",
       "8310  The failure to secure sufficient vaccine suppl...   \n",
       "8311  The conspiracy theory that includes economic c...   \n",
       "8312  WEDNESDAY INDIANA #COVID19 VACCINE NUMBERS: - ...   \n",
       "8313  When someone voluntarily tweets about the side...   \n",
       "\n",
       "                                      message_tokenized  \\\n",
       "0     [📍Huge—Latin, America, ’, main, Sinovac, Coron...   \n",
       "1     [competencies, qualifications, ministers, well...   \n",
       "2                            [First, vaccination, done]   \n",
       "3     [let, q, focus, threat, Covaxin, also.People, ...   \n",
       "4     [agree, pausing, J, J, vaccine, also, think, n...   \n",
       "...                                                 ...   \n",
       "8309  [Ayrshire, woman, demands, answers, son, 20, d...   \n",
       "8310  [failure, secure, sufficient, vaccine, supply,...   \n",
       "8311  [conspiracy, theory, includes, economic, colla...   \n",
       "8312  [WEDNESDAY, INDIANA, COVID19, VACCINE, NUMBERS...   \n",
       "8313  [someone, voluntarily, tweets, side, effects, ...   \n",
       "\n",
       "                              message_tokens_lemmatized  \n",
       "0     [📍huge—latin, america, ’, main, sinovac, coron...  \n",
       "1     [competency, qualification, minister, well, kn...  \n",
       "2                              [first, vaccination, do]  \n",
       "3     [let, q, focus, threat, covaxin, also.people, ...  \n",
       "4     [agree, pause, j, j, vaccine, also, think, nee...  \n",
       "...                                                 ...  \n",
       "8309  [ayrshire, woman, demand, answer, son, 20, dy,...  \n",
       "8310  [failure, secure, sufficient, vaccine, supply,...  \n",
       "8311  [conspiracy, theory, include, economic, collap...  \n",
       "8312  [wednesday, indiana, covid19, vaccine, numbers...  \n",
       "8313  [someone, voluntarily, tweet, side, effect, va...  \n",
       "\n",
       "[8314 rows x 9 columns]"
      ],
      "text/html": "<div>\n<style scoped>\n    .dataframe tbody tr th:only-of-type {\n        vertical-align: middle;\n    }\n\n    .dataframe tbody tr th {\n        vertical-align: top;\n    }\n\n    .dataframe thead th {\n        text-align: right;\n    }\n</style>\n<table border=\"1\" class=\"dataframe\">\n  <thead>\n    <tr style=\"text-align: right;\">\n      <th></th>\n      <th>message</th>\n      <th>annotation</th>\n      <th>retweeted_from</th>\n      <th>mentions</th>\n      <th>hashtags</th>\n      <th>links</th>\n      <th>message_cleaned</th>\n      <th>message_tokenized</th>\n      <th>message_tokens_lemmatized</th>\n    </tr>\n  </thead>\n  <tbody>\n    <tr>\n      <th>0</th>\n      <td>RT @DrEricDing: 📍Huge—Latin America’s main Sin...</td>\n      <td>1</td>\n      <td>[RT @DrEricDing:]</td>\n      <td>[DrEricDing]</td>\n      <td>[COVID19]</td>\n      <td>[]</td>\n      <td>📍Huge—Latin America’s main Sinovac (CoronaVac)...</td>\n      <td>[📍Huge—Latin, America, ’, main, Sinovac, Coron...</td>\n      <td>[📍huge—latin, america, ’, main, sinovac, coron...</td>\n    </tr>\n    <tr>\n      <th>1</th>\n      <td>@virsanghvi The competencies and qualification...</td>\n      <td>1</td>\n      <td>[]</td>\n      <td>[virsanghvi]</td>\n      <td>[]</td>\n      <td>[]</td>\n      <td>The competencies and qualifications of ministe...</td>\n      <td>[competencies, qualifications, ministers, well...</td>\n      <td>[competency, qualification, minister, well, kn...</td>\n    </tr>\n    <tr>\n      <th>2</th>\n      <td>First vaccination = done. https://t.co/MG0mFnrG9q</td>\n      <td>1</td>\n      <td>[]</td>\n      <td>[]</td>\n      <td>[]</td>\n      <td>[https://t.co/MG0mFnrG9q]</td>\n      <td>First vaccination = done.</td>\n      <td>[First, vaccination, done]</td>\n      <td>[first, vaccination, do]</td>\n    </tr>\n    <tr>\n      <th>3</th>\n      <td>@SreeIyer1 @Swamy39 Now let$q$s focus on threa...</td>\n      <td>1</td>\n      <td>[]</td>\n      <td>[SreeIyer1, Swamy39]</td>\n      <td>[]</td>\n      <td>[]</td>\n      <td>Now let$q$s focus on threat of Covaxin also.Pe...</td>\n      <td>[let, q, focus, threat, Covaxin, also.People, ...</td>\n      <td>[let, q, focus, threat, covaxin, also.people, ...</td>\n    </tr>\n    <tr>\n      <th>4</th>\n      <td>@Cpgaf1 @SenSchumer I agree with pausing the J...</td>\n      <td>1</td>\n      <td>[]</td>\n      <td>[Cpgaf1, SenSchumer]</td>\n      <td>[]</td>\n      <td>[]</td>\n      <td>I agree with pausing the J J vaccine, but I al...</td>\n      <td>[agree, pausing, J, J, vaccine, also, think, n...</td>\n      <td>[agree, pause, j, j, vaccine, also, think, nee...</td>\n    </tr>\n    <tr>\n      <th>...</th>\n      <td>...</td>\n      <td>...</td>\n      <td>...</td>\n      <td>...</td>\n      <td>...</td>\n      <td>...</td>\n      <td>...</td>\n      <td>...</td>\n      <td>...</td>\n    </tr>\n    <tr>\n      <th>8309</th>\n      <td>Ayrshire woman demands answers after son, 20, ...</td>\n      <td>-1</td>\n      <td>[]</td>\n      <td>[]</td>\n      <td>[]</td>\n      <td>[https://t.co/mMSCBKnVk0]</td>\n      <td>Ayrshire woman demands answers after son, 20, ...</td>\n      <td>[Ayrshire, woman, demands, answers, son, 20, d...</td>\n      <td>[ayrshire, woman, demand, answer, son, 20, dy,...</td>\n    </tr>\n    <tr>\n      <th>8310</th>\n      <td>The failure to secure sufficient vaccine suppl...</td>\n      <td>-1</td>\n      <td>[]</td>\n      <td>[]</td>\n      <td>[]</td>\n      <td>[https://t.co/IaGwcdTTfQ]</td>\n      <td>The failure to secure sufficient vaccine suppl...</td>\n      <td>[failure, secure, sufficient, vaccine, supply,...</td>\n      <td>[failure, secure, sufficient, vaccine, supply,...</td>\n    </tr>\n    <tr>\n      <th>8311</th>\n      <td>@libtard_cuck @ProlongingCovid @snowride70 The...</td>\n      <td>-1</td>\n      <td>[]</td>\n      <td>[libtard_cuck, ProlongingCovid, snowride70]</td>\n      <td>[]</td>\n      <td>[]</td>\n      <td>The conspiracy theory that includes economic c...</td>\n      <td>[conspiracy, theory, includes, economic, colla...</td>\n      <td>[conspiracy, theory, include, economic, collap...</td>\n    </tr>\n    <tr>\n      <th>8312</th>\n      <td>@WFIUNews WEDNESDAY INDIANA #COVID19 VACCINE N...</td>\n      <td>-1</td>\n      <td>[]</td>\n      <td>[WFIUNews]</td>\n      <td>[COVID19]</td>\n      <td>[]</td>\n      <td>WEDNESDAY INDIANA #COVID19 VACCINE NUMBERS: - ...</td>\n      <td>[WEDNESDAY, INDIANA, COVID19, VACCINE, NUMBERS...</td>\n      <td>[wednesday, indiana, covid19, vaccine, numbers...</td>\n    </tr>\n    <tr>\n      <th>8313</th>\n      <td>RT @B1ack_Woman: When someone voluntarily twee...</td>\n      <td>-1</td>\n      <td>[RT @B1ack_Woman:]</td>\n      <td>[B1ack_Woman]</td>\n      <td>[]</td>\n      <td>[]</td>\n      <td>When someone voluntarily tweets about the side...</td>\n      <td>[someone, voluntarily, tweets, side, effects, ...</td>\n      <td>[someone, voluntarily, tweet, side, effect, va...</td>\n    </tr>\n  </tbody>\n</table>\n<p>8314 rows × 9 columns</p>\n</div>"
     },
     "metadata": {},
     "execution_count": 13
    }
   ],
   "source": [
    "df_tweetData"
   ]
  }
 ]
}
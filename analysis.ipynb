{
 "metadata": {
  "language_info": {
   "codemirror_mode": {
    "name": "ipython",
    "version": 3
   },
   "file_extension": ".py",
   "mimetype": "text/x-python",
   "name": "python",
   "nbconvert_exporter": "python",
   "pygments_lexer": "ipython3",
   "version": "3.7.6"
  },
  "orig_nbformat": 4,
  "kernelspec": {
   "name": "python3",
   "display_name": "Python 3.7.6 64-bit ('base': conda)"
  },
  "interpreter": {
   "hash": "d4e689affbe18adfb32a0cdbbd21e967cd9823358f6cd1aa055e9fc7dbf02bc1"
  }
 },
 "nbformat": 4,
 "nbformat_minor": 2,
 "cells": [
  {
   "cell_type": "code",
   "execution_count": 103,
   "metadata": {},
   "outputs": [
    {
     "output_type": "error",
     "ename": "ModuleNotFoundError",
     "evalue": "No module named 'afinn'",
     "traceback": [
      "\u001b[1;31m---------------------------------------------------------------------------\u001b[0m",
      "\u001b[1;31mModuleNotFoundError\u001b[0m                       Traceback (most recent call last)",
      "\u001b[1;32m<ipython-input-103-ac26357e1273>\u001b[0m in \u001b[0;36m<module>\u001b[1;34m\u001b[0m\n\u001b[0;32m      8\u001b[0m \u001b[1;32mimport\u001b[0m \u001b[0mpreprocessing\u001b[0m\u001b[1;33m\u001b[0m\u001b[1;33m\u001b[0m\u001b[0m\n\u001b[0;32m      9\u001b[0m \u001b[1;32mfrom\u001b[0m \u001b[0mmodels\u001b[0m \u001b[1;32mimport\u001b[0m \u001b[0mvader_sa\u001b[0m \u001b[1;32mas\u001b[0m \u001b[0mvader\u001b[0m\u001b[1;33m\u001b[0m\u001b[1;33m\u001b[0m\u001b[0m\n\u001b[1;32m---> 10\u001b[1;33m \u001b[1;32mfrom\u001b[0m \u001b[0mmodels\u001b[0m \u001b[1;32mimport\u001b[0m \u001b[0mafinn_sa\u001b[0m \u001b[1;32mas\u001b[0m \u001b[0mafinn\u001b[0m\u001b[1;33m\u001b[0m\u001b[1;33m\u001b[0m\u001b[0m\n\u001b[0m\u001b[0;32m     11\u001b[0m \u001b[0mimportlib\u001b[0m\u001b[1;33m.\u001b[0m\u001b[0mreload\u001b[0m\u001b[1;33m(\u001b[0m\u001b[0mvader\u001b[0m\u001b[1;33m)\u001b[0m\u001b[1;33m\u001b[0m\u001b[1;33m\u001b[0m\u001b[0m\n",
      "\u001b[1;32mc:\\Users\\venug\\Desktop\\antivax_sa\\models\\afinn_sa.py\u001b[0m in \u001b[0;36m<module>\u001b[1;34m\u001b[0m\n\u001b[1;32m----> 1\u001b[1;33m \u001b[1;32mfrom\u001b[0m \u001b[0mafinn\u001b[0m \u001b[1;32mimport\u001b[0m \u001b[0mAfinn\u001b[0m\u001b[1;33m\u001b[0m\u001b[1;33m\u001b[0m\u001b[0m\n\u001b[0m\u001b[0;32m      2\u001b[0m \u001b[1;32mimport\u001b[0m \u001b[0mpandas\u001b[0m \u001b[1;32mas\u001b[0m \u001b[0mpd\u001b[0m\u001b[1;33m\u001b[0m\u001b[1;33m\u001b[0m\u001b[0m\n\u001b[0;32m      3\u001b[0m \u001b[1;33m\u001b[0m\u001b[0m\n\u001b[0;32m      4\u001b[0m \u001b[1;33m\u001b[0m\u001b[0m\n\u001b[0;32m      5\u001b[0m \u001b[1;32mdef\u001b[0m \u001b[0msentiment_score\u001b[0m\u001b[1;33m(\u001b[0m\u001b[0mdf\u001b[0m\u001b[1;33m,\u001b[0m\u001b[0mmessage_cleaned\u001b[0m\u001b[1;33m)\u001b[0m\u001b[1;33m:\u001b[0m\u001b[1;33m\u001b[0m\u001b[1;33m\u001b[0m\u001b[0m\n",
      "\u001b[1;31mModuleNotFoundError\u001b[0m: No module named 'afinn'"
     ]
    }
   ],
   "source": [
    "import pandas as pd\n",
    "import importlib\n",
    "import seaborn as sns\n",
    "import nltk\n",
    "from nltk.tokenize import word_tokenize\n",
    "import string\n",
    "from nltk.corpus import stopwords\n",
    "import preprocessing\n",
    "from models import vader_sa as vader\n",
    "from models import afinn_sa as afinn\n",
    "importlib.reload(vader)"
   ]
  },
  {
   "source": [
    "# Agenda\n",
    "<ol>\n",
    "\n",
    "<li> Create method for basic cleaning, removing retweet tags,etc. </li>\n",
    "<li> Create method for POS tagging and lemmatization </li>\n",
    "<li> Run Sentiment analysis on data with basic cleaning using Vader and Afinn. </li>\n",
    "<li> Train multiple classifiers including Naive Bayes and SVMs on the data. </li>\n",
    "<li> Write method to tag messages as neutral if average classification probability in the neighbourhood of 0.5, possibly give more weightage to Vader/Affin output </li>\n",
    "<li> Setup twitter api to get the entire tweets using tweet ids </li>\n",
    "<li> Setup apis for fb and reddit to be able to access vaccine related posts to enhance model. </li>"
   ],
   "cell_type": "markdown",
   "metadata": {}
  },
  {
   "cell_type": "code",
   "execution_count": 95,
   "metadata": {},
   "outputs": [],
   "source": [
    "preprocessor = preprocessing.Preprocessor()"
   ]
  },
  {
   "cell_type": "code",
   "execution_count": 96,
   "metadata": {},
   "outputs": [],
   "source": [
    "df_tweets = pd.read_csv(r'./data/vaccine_labeled_tweets.csv',index_col=0)"
   ]
  },
  {
   "cell_type": "code",
   "execution_count": 97,
   "metadata": {},
   "outputs": [
    {
     "output_type": "execute_result",
     "data": {
      "text/plain": [
       "            tweetid  inreplyuserid   friendscount        userid  \\\n",
       "count  1.000000e+04   1.000000e+04   10000.000000  1.000000e+04   \n",
       "mean   1.383379e+18   4.807362e+16    1303.354900  4.815039e+17   \n",
       "std    2.890019e+13   2.334947e+17    4606.207082  5.685077e+17   \n",
       "min    1.383327e+18  -1.000000e+00       0.000000  1.406830e+05   \n",
       "25%    1.383355e+18  -1.000000e+00     192.000000  3.300326e+08   \n",
       "50%    1.383378e+18  -1.000000e+00     488.000000  2.926940e+09   \n",
       "75%    1.383404e+18  -1.000000e+00    1253.250000  1.094894e+18   \n",
       "max    1.383427e+18   1.382914e+18  272394.000000  1.383424e+18   \n",
       "\n",
       "       favoritecount  followerscount  inreplytweetid  retweetcount  annotation  \n",
       "count        10000.0    1.000000e+04    1.000000e+04       10000.0     10000.0  \n",
       "mean             0.0    1.273950e+04    1.766206e+17           0.0         1.0  \n",
       "std              0.0    1.988503e+05    4.616376e+17           0.0         0.0  \n",
       "min              0.0    0.000000e+00   -1.000000e+00           0.0         1.0  \n",
       "25%              0.0    8.600000e+01   -1.000000e+00           0.0         1.0  \n",
       "50%              0.0    3.250000e+02   -1.000000e+00           0.0         1.0  \n",
       "75%              0.0    1.279250e+03   -1.000000e+00           0.0         1.0  \n",
       "max              0.0    7.832936e+06    1.383427e+18           0.0         1.0  "
      ],
      "text/html": "<div>\n<style scoped>\n    .dataframe tbody tr th:only-of-type {\n        vertical-align: middle;\n    }\n\n    .dataframe tbody tr th {\n        vertical-align: top;\n    }\n\n    .dataframe thead th {\n        text-align: right;\n    }\n</style>\n<table border=\"1\" class=\"dataframe\">\n  <thead>\n    <tr style=\"text-align: right;\">\n      <th></th>\n      <th>tweetid</th>\n      <th>inreplyuserid</th>\n      <th>friendscount</th>\n      <th>userid</th>\n      <th>favoritecount</th>\n      <th>followerscount</th>\n      <th>inreplytweetid</th>\n      <th>retweetcount</th>\n      <th>annotation</th>\n    </tr>\n  </thead>\n  <tbody>\n    <tr>\n      <th>count</th>\n      <td>1.000000e+04</td>\n      <td>1.000000e+04</td>\n      <td>10000.000000</td>\n      <td>1.000000e+04</td>\n      <td>10000.0</td>\n      <td>1.000000e+04</td>\n      <td>1.000000e+04</td>\n      <td>10000.0</td>\n      <td>10000.0</td>\n    </tr>\n    <tr>\n      <th>mean</th>\n      <td>1.383379e+18</td>\n      <td>4.807362e+16</td>\n      <td>1303.354900</td>\n      <td>4.815039e+17</td>\n      <td>0.0</td>\n      <td>1.273950e+04</td>\n      <td>1.766206e+17</td>\n      <td>0.0</td>\n      <td>1.0</td>\n    </tr>\n    <tr>\n      <th>std</th>\n      <td>2.890019e+13</td>\n      <td>2.334947e+17</td>\n      <td>4606.207082</td>\n      <td>5.685077e+17</td>\n      <td>0.0</td>\n      <td>1.988503e+05</td>\n      <td>4.616376e+17</td>\n      <td>0.0</td>\n      <td>0.0</td>\n    </tr>\n    <tr>\n      <th>min</th>\n      <td>1.383327e+18</td>\n      <td>-1.000000e+00</td>\n      <td>0.000000</td>\n      <td>1.406830e+05</td>\n      <td>0.0</td>\n      <td>0.000000e+00</td>\n      <td>-1.000000e+00</td>\n      <td>0.0</td>\n      <td>1.0</td>\n    </tr>\n    <tr>\n      <th>25%</th>\n      <td>1.383355e+18</td>\n      <td>-1.000000e+00</td>\n      <td>192.000000</td>\n      <td>3.300326e+08</td>\n      <td>0.0</td>\n      <td>8.600000e+01</td>\n      <td>-1.000000e+00</td>\n      <td>0.0</td>\n      <td>1.0</td>\n    </tr>\n    <tr>\n      <th>50%</th>\n      <td>1.383378e+18</td>\n      <td>-1.000000e+00</td>\n      <td>488.000000</td>\n      <td>2.926940e+09</td>\n      <td>0.0</td>\n      <td>3.250000e+02</td>\n      <td>-1.000000e+00</td>\n      <td>0.0</td>\n      <td>1.0</td>\n    </tr>\n    <tr>\n      <th>75%</th>\n      <td>1.383404e+18</td>\n      <td>-1.000000e+00</td>\n      <td>1253.250000</td>\n      <td>1.094894e+18</td>\n      <td>0.0</td>\n      <td>1.279250e+03</td>\n      <td>-1.000000e+00</td>\n      <td>0.0</td>\n      <td>1.0</td>\n    </tr>\n    <tr>\n      <th>max</th>\n      <td>1.383427e+18</td>\n      <td>1.382914e+18</td>\n      <td>272394.000000</td>\n      <td>1.383424e+18</td>\n      <td>0.0</td>\n      <td>7.832936e+06</td>\n      <td>1.383427e+18</td>\n      <td>0.0</td>\n      <td>1.0</td>\n    </tr>\n  </tbody>\n</table>\n</div>"
     },
     "metadata": {},
     "execution_count": 97
    }
   ],
   "source": [
    "df_pro = pd.read_csv(r'./data/vaccine_pro.csv')\n",
    "df_pro.describe()\n",
    "# df_pro['message'].drop_duplicates()"
   ]
  },
  {
   "cell_type": "code",
   "execution_count": 98,
   "metadata": {},
   "outputs": [],
   "source": [
    "df_anti = pd.read_csv(r'./data/vaccine_anti.csv')\n",
    "# df_anti['message'].drop_duplicates()"
   ]
  },
  {
   "cell_type": "code",
   "execution_count": 99,
   "metadata": {},
   "outputs": [
    {
     "output_type": "execute_result",
     "data": {
      "text/plain": [
       "Index(['tweetid', 'name', 'inreplyuserid', 'createdat', 'timezone',\n",
       "       'friendscount', 'accountcreated', 'location', 'userid', 'xcoordinate',\n",
       "       'message', 'screenname', 'favoritecount', 'followerscount',\n",
       "       'inreplytweetid', 'retweetcount', 'utcoffset', 'ycoordinate',\n",
       "       'dataagent', 'place', 'inreplyscreenname', 'category', 'annotation'],\n",
       "      dtype='object')"
      ]
     },
     "metadata": {},
     "execution_count": 99
    }
   ],
   "source": [
    "df_anti.columns"
   ]
  },
  {
   "cell_type": "code",
   "execution_count": 100,
   "metadata": {},
   "outputs": [],
   "source": [
    "df_tweetData = df_pro[['message','annotation']].drop_duplicates()\n",
    "df_neg = df_anti[['message','annotation']].drop_duplicates()\n",
    "df_tweetData = df_tweetData.append(df_neg,ignore_index = True)"
   ]
  },
  {
   "cell_type": "code",
   "execution_count": 101,
   "metadata": {},
   "outputs": [],
   "source": [
    "preprocessor.simple_clean(df_tweetData,'message','message_cleaned')\n",
    "preprocessor.clean_tweets(df_tweetData,'message_cleaned','message_tokenized')\n",
    "preprocessor.lemmatize_tweets(df_tweetData,'message_tokenized','message_tokens_lemmatized')"
   ]
  },
  {
   "source": [
    "## Vader sentiment analysis"
   ],
   "cell_type": "markdown",
   "metadata": {}
  },
  {
   "cell_type": "code",
   "execution_count": 102,
   "metadata": {},
   "outputs": [
    {
     "output_type": "stream",
     "name": "stdout",
     "text": [
      "Index(['vader_neg', 'vader_neu', 'vader_pos', 'vader_compound'], dtype='object')\n"
     ]
    },
    {
     "output_type": "execute_result",
     "data": {
      "text/plain": [
       "                                                message  annotation  \\\n",
       "0     RT @DrEricDing: 📍Huge—Latin America’s main Sin...           1   \n",
       "1     @virsanghvi The competencies and qualification...           1   \n",
       "2     First vaccination = done. https://t.co/MG0mFnrG9q           1   \n",
       "3     @SreeIyer1 @Swamy39 Now let$q$s focus on threa...           1   \n",
       "4     @Cpgaf1 @SenSchumer I agree with pausing the J...           1   \n",
       "...                                                 ...         ...   \n",
       "8309  Ayrshire woman demands answers after son, 20, ...          -1   \n",
       "8310  The failure to secure sufficient vaccine suppl...          -1   \n",
       "8311  @libtard_cuck @ProlongingCovid @snowride70 The...          -1   \n",
       "8312  @WFIUNews WEDNESDAY INDIANA #COVID19 VACCINE N...          -1   \n",
       "8313  RT @B1ack_Woman: When someone voluntarily twee...          -1   \n",
       "\n",
       "          retweeted_from                                     mentions  \\\n",
       "0      [RT @DrEricDing:]                                 [DrEricDing]   \n",
       "1                     []                                 [virsanghvi]   \n",
       "2                     []                                           []   \n",
       "3                     []                         [SreeIyer1, Swamy39]   \n",
       "4                     []                         [Cpgaf1, SenSchumer]   \n",
       "...                  ...                                          ...   \n",
       "8309                  []                                           []   \n",
       "8310                  []                                           []   \n",
       "8311                  []  [libtard_cuck, ProlongingCovid, snowride70]   \n",
       "8312                  []                                   [WFIUNews]   \n",
       "8313  [RT @B1ack_Woman:]                                [B1ack_Woman]   \n",
       "\n",
       "       hashtags                      links  \\\n",
       "0     [COVID19]                         []   \n",
       "1            []                         []   \n",
       "2            []  [https://t.co/MG0mFnrG9q]   \n",
       "3            []                         []   \n",
       "4            []                         []   \n",
       "...         ...                        ...   \n",
       "8309         []  [https://t.co/mMSCBKnVk0]   \n",
       "8310         []  [https://t.co/IaGwcdTTfQ]   \n",
       "8311         []                         []   \n",
       "8312  [COVID19]                         []   \n",
       "8313         []                         []   \n",
       "\n",
       "                                        message_cleaned  \\\n",
       "0     📍Huge—Latin America’s main Sinovac (CoronaVac)...   \n",
       "1     The competencies and qualifications of ministe...   \n",
       "2                             First vaccination = done.   \n",
       "3     Now let$q$s focus on threat of Covaxin also.Pe...   \n",
       "4     I agree with pausing the J J vaccine, but I al...   \n",
       "...                                                 ...   \n",
       "8309  Ayrshire woman demands answers after son, 20, ...   \n",
       "8310  The failure to secure sufficient vaccine suppl...   \n",
       "8311  The conspiracy theory that includes economic c...   \n",
       "8312  WEDNESDAY INDIANA #COVID19 VACCINE NUMBERS: - ...   \n",
       "8313  When someone voluntarily tweets about the side...   \n",
       "\n",
       "                                      message_tokenized  \\\n",
       "0     [📍Huge—Latin, America, ’, main, Sinovac, Coron...   \n",
       "1     [competencies, qualifications, ministers, well...   \n",
       "2                            [First, vaccination, done]   \n",
       "3     [let, q, focus, threat, Covaxin, also.People, ...   \n",
       "4     [agree, pausing, J, J, vaccine, also, think, n...   \n",
       "...                                                 ...   \n",
       "8309  [Ayrshire, woman, demands, answers, son, 20, d...   \n",
       "8310  [failure, secure, sufficient, vaccine, supply,...   \n",
       "8311  [conspiracy, theory, includes, economic, colla...   \n",
       "8312  [WEDNESDAY, INDIANA, COVID19, VACCINE, NUMBERS...   \n",
       "8313  [someone, voluntarily, tweets, side, effects, ...   \n",
       "\n",
       "                              message_tokens_lemmatized  \\\n",
       "0     [📍huge—latin, america, ’, main, sinovac, coron...   \n",
       "1     [competency, qualification, minister, well, kn...   \n",
       "2                              [first, vaccination, do]   \n",
       "3     [let, q, focus, threat, covaxin, also.people, ...   \n",
       "4     [agree, pause, j, j, vaccine, also, think, nee...   \n",
       "...                                                 ...   \n",
       "8309  [ayrshire, woman, demand, answer, son, 20, dy,...   \n",
       "8310  [failure, secure, sufficient, vaccine, supply,...   \n",
       "8311  [conspiracy, theory, include, economic, collap...   \n",
       "8312  [wednesday, indiana, covid19, vaccine, numbers...   \n",
       "8313  [someone, voluntarily, tweet, side, effect, va...   \n",
       "\n",
       "                                             vader_dict  vader_neg  vader_neu  \\\n",
       "0     {'neg': 0.057, 'neu': 0.781, 'pos': 0.161, 'co...      0.057      0.781   \n",
       "1     {'neg': 0.0, 'neu': 0.832, 'pos': 0.168, 'comp...      0.000      0.832   \n",
       "2     {'neg': 0.0, 'neu': 1.0, 'pos': 0.0, 'compound...      0.000      1.000   \n",
       "3     {'neg': 0.117, 'neu': 0.724, 'pos': 0.159, 'co...      0.117      0.724   \n",
       "4     {'neg': 0.056, 'neu': 0.828, 'pos': 0.116, 'co...      0.056      0.828   \n",
       "...                                                 ...        ...        ...   \n",
       "8309  {'neg': 0.0, 'neu': 1.0, 'pos': 0.0, 'compound...      0.000      1.000   \n",
       "8310  {'neg': 0.277, 'neu': 0.643, 'pos': 0.08, 'com...      0.277      0.643   \n",
       "8311  {'neg': 0.375, 'neu': 0.625, 'pos': 0.0, 'comp...      0.375      0.625   \n",
       "8312  {'neg': 0.0, 'neu': 1.0, 'pos': 0.0, 'compound...      0.000      1.000   \n",
       "8313  {'neg': 0.13, 'neu': 0.87, 'pos': 0.0, 'compou...      0.130      0.870   \n",
       "\n",
       "      vader_pos  vader_compound  \n",
       "0         0.161          0.4588  \n",
       "1         0.168          0.7845  \n",
       "2         0.000          0.0000  \n",
       "3         0.159          0.0516  \n",
       "4         0.116          0.3291  \n",
       "...         ...             ...  \n",
       "8309      0.000          0.0000  \n",
       "8310      0.080         -0.8718  \n",
       "8311      0.000         -0.8625  \n",
       "8312      0.000          0.0000  \n",
       "8313      0.000         -0.4588  \n",
       "\n",
       "[8314 rows x 14 columns]"
      ],
      "text/html": "<div>\n<style scoped>\n    .dataframe tbody tr th:only-of-type {\n        vertical-align: middle;\n    }\n\n    .dataframe tbody tr th {\n        vertical-align: top;\n    }\n\n    .dataframe thead th {\n        text-align: right;\n    }\n</style>\n<table border=\"1\" class=\"dataframe\">\n  <thead>\n    <tr style=\"text-align: right;\">\n      <th></th>\n      <th>message</th>\n      <th>annotation</th>\n      <th>retweeted_from</th>\n      <th>mentions</th>\n      <th>hashtags</th>\n      <th>links</th>\n      <th>message_cleaned</th>\n      <th>message_tokenized</th>\n      <th>message_tokens_lemmatized</th>\n      <th>vader_dict</th>\n      <th>vader_neg</th>\n      <th>vader_neu</th>\n      <th>vader_pos</th>\n      <th>vader_compound</th>\n    </tr>\n  </thead>\n  <tbody>\n    <tr>\n      <th>0</th>\n      <td>RT @DrEricDing: 📍Huge—Latin America’s main Sin...</td>\n      <td>1</td>\n      <td>[RT @DrEricDing:]</td>\n      <td>[DrEricDing]</td>\n      <td>[COVID19]</td>\n      <td>[]</td>\n      <td>📍Huge—Latin America’s main Sinovac (CoronaVac)...</td>\n      <td>[📍Huge—Latin, America, ’, main, Sinovac, Coron...</td>\n      <td>[📍huge—latin, america, ’, main, sinovac, coron...</td>\n      <td>{'neg': 0.057, 'neu': 0.781, 'pos': 0.161, 'co...</td>\n      <td>0.057</td>\n      <td>0.781</td>\n      <td>0.161</td>\n      <td>0.4588</td>\n    </tr>\n    <tr>\n      <th>1</th>\n      <td>@virsanghvi The competencies and qualification...</td>\n      <td>1</td>\n      <td>[]</td>\n      <td>[virsanghvi]</td>\n      <td>[]</td>\n      <td>[]</td>\n      <td>The competencies and qualifications of ministe...</td>\n      <td>[competencies, qualifications, ministers, well...</td>\n      <td>[competency, qualification, minister, well, kn...</td>\n      <td>{'neg': 0.0, 'neu': 0.832, 'pos': 0.168, 'comp...</td>\n      <td>0.000</td>\n      <td>0.832</td>\n      <td>0.168</td>\n      <td>0.7845</td>\n    </tr>\n    <tr>\n      <th>2</th>\n      <td>First vaccination = done. https://t.co/MG0mFnrG9q</td>\n      <td>1</td>\n      <td>[]</td>\n      <td>[]</td>\n      <td>[]</td>\n      <td>[https://t.co/MG0mFnrG9q]</td>\n      <td>First vaccination = done.</td>\n      <td>[First, vaccination, done]</td>\n      <td>[first, vaccination, do]</td>\n      <td>{'neg': 0.0, 'neu': 1.0, 'pos': 0.0, 'compound...</td>\n      <td>0.000</td>\n      <td>1.000</td>\n      <td>0.000</td>\n      <td>0.0000</td>\n    </tr>\n    <tr>\n      <th>3</th>\n      <td>@SreeIyer1 @Swamy39 Now let$q$s focus on threa...</td>\n      <td>1</td>\n      <td>[]</td>\n      <td>[SreeIyer1, Swamy39]</td>\n      <td>[]</td>\n      <td>[]</td>\n      <td>Now let$q$s focus on threat of Covaxin also.Pe...</td>\n      <td>[let, q, focus, threat, Covaxin, also.People, ...</td>\n      <td>[let, q, focus, threat, covaxin, also.people, ...</td>\n      <td>{'neg': 0.117, 'neu': 0.724, 'pos': 0.159, 'co...</td>\n      <td>0.117</td>\n      <td>0.724</td>\n      <td>0.159</td>\n      <td>0.0516</td>\n    </tr>\n    <tr>\n      <th>4</th>\n      <td>@Cpgaf1 @SenSchumer I agree with pausing the J...</td>\n      <td>1</td>\n      <td>[]</td>\n      <td>[Cpgaf1, SenSchumer]</td>\n      <td>[]</td>\n      <td>[]</td>\n      <td>I agree with pausing the J J vaccine, but I al...</td>\n      <td>[agree, pausing, J, J, vaccine, also, think, n...</td>\n      <td>[agree, pause, j, j, vaccine, also, think, nee...</td>\n      <td>{'neg': 0.056, 'neu': 0.828, 'pos': 0.116, 'co...</td>\n      <td>0.056</td>\n      <td>0.828</td>\n      <td>0.116</td>\n      <td>0.3291</td>\n    </tr>\n    <tr>\n      <th>...</th>\n      <td>...</td>\n      <td>...</td>\n      <td>...</td>\n      <td>...</td>\n      <td>...</td>\n      <td>...</td>\n      <td>...</td>\n      <td>...</td>\n      <td>...</td>\n      <td>...</td>\n      <td>...</td>\n      <td>...</td>\n      <td>...</td>\n      <td>...</td>\n    </tr>\n    <tr>\n      <th>8309</th>\n      <td>Ayrshire woman demands answers after son, 20, ...</td>\n      <td>-1</td>\n      <td>[]</td>\n      <td>[]</td>\n      <td>[]</td>\n      <td>[https://t.co/mMSCBKnVk0]</td>\n      <td>Ayrshire woman demands answers after son, 20, ...</td>\n      <td>[Ayrshire, woman, demands, answers, son, 20, d...</td>\n      <td>[ayrshire, woman, demand, answer, son, 20, dy,...</td>\n      <td>{'neg': 0.0, 'neu': 1.0, 'pos': 0.0, 'compound...</td>\n      <td>0.000</td>\n      <td>1.000</td>\n      <td>0.000</td>\n      <td>0.0000</td>\n    </tr>\n    <tr>\n      <th>8310</th>\n      <td>The failure to secure sufficient vaccine suppl...</td>\n      <td>-1</td>\n      <td>[]</td>\n      <td>[]</td>\n      <td>[]</td>\n      <td>[https://t.co/IaGwcdTTfQ]</td>\n      <td>The failure to secure sufficient vaccine suppl...</td>\n      <td>[failure, secure, sufficient, vaccine, supply,...</td>\n      <td>[failure, secure, sufficient, vaccine, supply,...</td>\n      <td>{'neg': 0.277, 'neu': 0.643, 'pos': 0.08, 'com...</td>\n      <td>0.277</td>\n      <td>0.643</td>\n      <td>0.080</td>\n      <td>-0.8718</td>\n    </tr>\n    <tr>\n      <th>8311</th>\n      <td>@libtard_cuck @ProlongingCovid @snowride70 The...</td>\n      <td>-1</td>\n      <td>[]</td>\n      <td>[libtard_cuck, ProlongingCovid, snowride70]</td>\n      <td>[]</td>\n      <td>[]</td>\n      <td>The conspiracy theory that includes economic c...</td>\n      <td>[conspiracy, theory, includes, economic, colla...</td>\n      <td>[conspiracy, theory, include, economic, collap...</td>\n      <td>{'neg': 0.375, 'neu': 0.625, 'pos': 0.0, 'comp...</td>\n      <td>0.375</td>\n      <td>0.625</td>\n      <td>0.000</td>\n      <td>-0.8625</td>\n    </tr>\n    <tr>\n      <th>8312</th>\n      <td>@WFIUNews WEDNESDAY INDIANA #COVID19 VACCINE N...</td>\n      <td>-1</td>\n      <td>[]</td>\n      <td>[WFIUNews]</td>\n      <td>[COVID19]</td>\n      <td>[]</td>\n      <td>WEDNESDAY INDIANA #COVID19 VACCINE NUMBERS: - ...</td>\n      <td>[WEDNESDAY, INDIANA, COVID19, VACCINE, NUMBERS...</td>\n      <td>[wednesday, indiana, covid19, vaccine, numbers...</td>\n      <td>{'neg': 0.0, 'neu': 1.0, 'pos': 0.0, 'compound...</td>\n      <td>0.000</td>\n      <td>1.000</td>\n      <td>0.000</td>\n      <td>0.0000</td>\n    </tr>\n    <tr>\n      <th>8313</th>\n      <td>RT @B1ack_Woman: When someone voluntarily twee...</td>\n      <td>-1</td>\n      <td>[RT @B1ack_Woman:]</td>\n      <td>[B1ack_Woman]</td>\n      <td>[]</td>\n      <td>[]</td>\n      <td>When someone voluntarily tweets about the side...</td>\n      <td>[someone, voluntarily, tweets, side, effects, ...</td>\n      <td>[someone, voluntarily, tweet, side, effect, va...</td>\n      <td>{'neg': 0.13, 'neu': 0.87, 'pos': 0.0, 'compou...</td>\n      <td>0.130</td>\n      <td>0.870</td>\n      <td>0.000</td>\n      <td>-0.4588</td>\n    </tr>\n  </tbody>\n</table>\n<p>8314 rows × 14 columns</p>\n</div>"
     },
     "metadata": {},
     "execution_count": 102
    }
   ],
   "source": [
    "df_vader = vader.sentiment_scores(df_tweetData,'message_cleaned')\n",
    "df_tweetData = df_tweetData.join(df_vader)\n",
    "df_tweetData"
   ]
  },
  {
   "cell_type": "code",
   "execution_count": null,
   "metadata": {},
   "outputs": [],
   "source": []
  }
 ]
}
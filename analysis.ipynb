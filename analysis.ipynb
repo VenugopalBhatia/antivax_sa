{
 "metadata": {
  "language_info": {
   "codemirror_mode": {
    "name": "ipython",
    "version": 3
   },
   "file_extension": ".py",
   "mimetype": "text/x-python",
   "name": "python",
   "nbconvert_exporter": "python",
   "pygments_lexer": "ipython3",
   "version": "3.7.6"
  },
  "orig_nbformat": 4,
  "kernelspec": {
   "name": "python3",
   "display_name": "Python 3.7.6 64-bit ('base': conda)"
  },
  "interpreter": {
   "hash": "d4e689affbe18adfb32a0cdbbd21e967cd9823358f6cd1aa055e9fc7dbf02bc1"
  }
 },
 "nbformat": 4,
 "nbformat_minor": 2,
 "cells": [
  {
   "cell_type": "code",
   "execution_count": 1,
   "metadata": {},
   "outputs": [],
   "source": [
    "import pandas as pd\n",
    "import seaborn as sns\n",
    "import nltk\n",
    "from nltk.tokenize import word_tokenize\n",
    "import string\n",
    "from nltk.corpus import stopwords"
   ]
  },
  {
   "source": [
    "# Agenda\n",
    "<ol>\n",
    "\n",
    "<li> Create method for basic cleaning, removing retweet tags,etc. </li>\n",
    "<li> Create method for POS tagging and lemmatization </li>\n",
    "<li> Run Sentiment analysis on data with basic cleaning using Vader and Affin. </li>\n",
    "<li> Train multiple classifiers including Naive Bayes and SVMs on the data. </li>\n",
    "<li> Write method to tag messages as neutral if average classification probability in the neighbourhood of 0.5, possibly give more weightage to Vader/Affin output </li>\n",
    "<li> Setup twitter api to get the entire tweets using tweet ids </li>\n",
    "<li> Setup apis for fb and reddit to be able to access vaccine related posts to enhance model. </li>"
   ],
   "cell_type": "markdown",
   "metadata": {}
  },
  {
   "cell_type": "code",
   "execution_count": 2,
   "metadata": {},
   "outputs": [],
   "source": [
    "df_tweets = pd.read_csv(r'./data/vaccine_labeled_tweets.csv',index_col=0)"
   ]
  },
  {
   "cell_type": "code",
   "execution_count": 3,
   "metadata": {},
   "outputs": [
    {
     "output_type": "execute_result",
     "data": {
      "text/plain": [
       "            tweetid  inreplyuserid   friendscount        userid  \\\n",
       "count  1.000000e+04   1.000000e+04   10000.000000  1.000000e+04   \n",
       "mean   1.383379e+18   4.807362e+16    1303.354900  4.815039e+17   \n",
       "std    2.890019e+13   2.334947e+17    4606.207082  5.685077e+17   \n",
       "min    1.383327e+18  -1.000000e+00       0.000000  1.406830e+05   \n",
       "25%    1.383355e+18  -1.000000e+00     192.000000  3.300326e+08   \n",
       "50%    1.383378e+18  -1.000000e+00     488.000000  2.926940e+09   \n",
       "75%    1.383404e+18  -1.000000e+00    1253.250000  1.094894e+18   \n",
       "max    1.383427e+18   1.382914e+18  272394.000000  1.383424e+18   \n",
       "\n",
       "       favoritecount  followerscount  inreplytweetid  retweetcount  annotation  \n",
       "count        10000.0    1.000000e+04    1.000000e+04       10000.0     10000.0  \n",
       "mean             0.0    1.273950e+04    1.766206e+17           0.0         1.0  \n",
       "std              0.0    1.988503e+05    4.616376e+17           0.0         0.0  \n",
       "min              0.0    0.000000e+00   -1.000000e+00           0.0         1.0  \n",
       "25%              0.0    8.600000e+01   -1.000000e+00           0.0         1.0  \n",
       "50%              0.0    3.250000e+02   -1.000000e+00           0.0         1.0  \n",
       "75%              0.0    1.279250e+03   -1.000000e+00           0.0         1.0  \n",
       "max              0.0    7.832936e+06    1.383427e+18           0.0         1.0  "
      ],
      "text/html": "<div>\n<style scoped>\n    .dataframe tbody tr th:only-of-type {\n        vertical-align: middle;\n    }\n\n    .dataframe tbody tr th {\n        vertical-align: top;\n    }\n\n    .dataframe thead th {\n        text-align: right;\n    }\n</style>\n<table border=\"1\" class=\"dataframe\">\n  <thead>\n    <tr style=\"text-align: right;\">\n      <th></th>\n      <th>tweetid</th>\n      <th>inreplyuserid</th>\n      <th>friendscount</th>\n      <th>userid</th>\n      <th>favoritecount</th>\n      <th>followerscount</th>\n      <th>inreplytweetid</th>\n      <th>retweetcount</th>\n      <th>annotation</th>\n    </tr>\n  </thead>\n  <tbody>\n    <tr>\n      <th>count</th>\n      <td>1.000000e+04</td>\n      <td>1.000000e+04</td>\n      <td>10000.000000</td>\n      <td>1.000000e+04</td>\n      <td>10000.0</td>\n      <td>1.000000e+04</td>\n      <td>1.000000e+04</td>\n      <td>10000.0</td>\n      <td>10000.0</td>\n    </tr>\n    <tr>\n      <th>mean</th>\n      <td>1.383379e+18</td>\n      <td>4.807362e+16</td>\n      <td>1303.354900</td>\n      <td>4.815039e+17</td>\n      <td>0.0</td>\n      <td>1.273950e+04</td>\n      <td>1.766206e+17</td>\n      <td>0.0</td>\n      <td>1.0</td>\n    </tr>\n    <tr>\n      <th>std</th>\n      <td>2.890019e+13</td>\n      <td>2.334947e+17</td>\n      <td>4606.207082</td>\n      <td>5.685077e+17</td>\n      <td>0.0</td>\n      <td>1.988503e+05</td>\n      <td>4.616376e+17</td>\n      <td>0.0</td>\n      <td>0.0</td>\n    </tr>\n    <tr>\n      <th>min</th>\n      <td>1.383327e+18</td>\n      <td>-1.000000e+00</td>\n      <td>0.000000</td>\n      <td>1.406830e+05</td>\n      <td>0.0</td>\n      <td>0.000000e+00</td>\n      <td>-1.000000e+00</td>\n      <td>0.0</td>\n      <td>1.0</td>\n    </tr>\n    <tr>\n      <th>25%</th>\n      <td>1.383355e+18</td>\n      <td>-1.000000e+00</td>\n      <td>192.000000</td>\n      <td>3.300326e+08</td>\n      <td>0.0</td>\n      <td>8.600000e+01</td>\n      <td>-1.000000e+00</td>\n      <td>0.0</td>\n      <td>1.0</td>\n    </tr>\n    <tr>\n      <th>50%</th>\n      <td>1.383378e+18</td>\n      <td>-1.000000e+00</td>\n      <td>488.000000</td>\n      <td>2.926940e+09</td>\n      <td>0.0</td>\n      <td>3.250000e+02</td>\n      <td>-1.000000e+00</td>\n      <td>0.0</td>\n      <td>1.0</td>\n    </tr>\n    <tr>\n      <th>75%</th>\n      <td>1.383404e+18</td>\n      <td>-1.000000e+00</td>\n      <td>1253.250000</td>\n      <td>1.094894e+18</td>\n      <td>0.0</td>\n      <td>1.279250e+03</td>\n      <td>-1.000000e+00</td>\n      <td>0.0</td>\n      <td>1.0</td>\n    </tr>\n    <tr>\n      <th>max</th>\n      <td>1.383427e+18</td>\n      <td>1.382914e+18</td>\n      <td>272394.000000</td>\n      <td>1.383424e+18</td>\n      <td>0.0</td>\n      <td>7.832936e+06</td>\n      <td>1.383427e+18</td>\n      <td>0.0</td>\n      <td>1.0</td>\n    </tr>\n  </tbody>\n</table>\n</div>"
     },
     "metadata": {},
     "execution_count": 3
    }
   ],
   "source": [
    "df_pro = pd.read_csv(r'./data/vaccine_pro.csv')\n",
    "df_pro.describe()\n",
    "# df_pro['message'].drop_duplicates()"
   ]
  },
  {
   "cell_type": "code",
   "execution_count": 4,
   "metadata": {},
   "outputs": [],
   "source": [
    "df_anti = pd.read_csv(r'./data/vaccine_anti.csv')\n",
    "# df_anti['message'].drop_duplicates()"
   ]
  },
  {
   "cell_type": "code",
   "execution_count": 5,
   "metadata": {},
   "outputs": [
    {
     "output_type": "execute_result",
     "data": {
      "text/plain": [
       "Index(['tweetid', 'name', 'inreplyuserid', 'createdat', 'timezone',\n",
       "       'friendscount', 'accountcreated', 'location', 'userid', 'xcoordinate',\n",
       "       'message', 'screenname', 'favoritecount', 'followerscount',\n",
       "       'inreplytweetid', 'retweetcount', 'utcoffset', 'ycoordinate',\n",
       "       'dataagent', 'place', 'inreplyscreenname', 'category', 'annotation'],\n",
       "      dtype='object')"
      ]
     },
     "metadata": {},
     "execution_count": 5
    }
   ],
   "source": [
    "df_anti.columns"
   ]
  },
  {
   "cell_type": "code",
   "execution_count": 6,
   "metadata": {},
   "outputs": [],
   "source": [
    "def simple_clean(df,msgColumn,cleanColumn):\n",
    "        df[cleanColumn] = df[msgColumn].replace(\"^RT.*:|\\s{2,}|…\",\" \",regex=True).str.strip()\n",
    "\n",
    "def gen_word_tokens(message):\n",
    "    words = word_tokenize(message)\n",
    "    wordList = []\n",
    "    for w in words:\n",
    "        if w.lower() not in stop:\n",
    "            wordList.append(w)\n",
    "    return wordList\n",
    "\n",
    "def clean_tweet(df,msgColumn,wordTokens):\n",
    "    df[wordTokens] = df[msgColumn].apply(gen_word_tokens)"
   ]
  },
  {
   "cell_type": "code",
   "execution_count": 8,
   "metadata": {},
   "outputs": [
    {
     "output_type": "stream",
     "name": "stdout",
     "text": [
      "['i', 'me', 'my', 'myself', 'we', 'our', 'ours', 'ourselves', 'you', \"you're\", \"you've\", \"you'll\", \"you'd\", 'your', 'yours', 'yourself', 'yourselves', 'he', 'him', 'his', 'himself', 'she', \"she's\", 'her', 'hers', 'herself', 'it', \"it's\", 'its', 'itself', 'they', 'them', 'their', 'theirs', 'themselves', 'what', 'which', 'who', 'whom', 'this', 'that', \"that'll\", 'these', 'those', 'am', 'is', 'are', 'was', 'were', 'be', 'been', 'being', 'have', 'has', 'had', 'having', 'do', 'does', 'did', 'doing', 'a', 'an', 'the', 'and', 'but', 'if', 'or', 'because', 'as', 'until', 'while', 'of', 'at', 'by', 'for', 'with', 'about', 'against', 'between', 'into', 'through', 'during', 'before', 'after', 'above', 'below', 'to', 'from', 'up', 'down', 'in', 'out', 'on', 'off', 'over', 'under', 'again', 'further', 'then', 'once', 'here', 'there', 'when', 'where', 'why', 'how', 'all', 'any', 'both', 'each', 'few', 'more', 'most', 'other', 'some', 'such', 'no', 'nor', 'not', 'only', 'own', 'same', 'so', 'than', 'too', 'very', 's', 't', 'can', 'will', 'just', 'don', \"don't\", 'should', \"should've\", 'now', 'd', 'll', 'm', 'o', 're', 've', 'y', 'ain', 'aren', \"aren't\", 'couldn', \"couldn't\", 'didn', \"didn't\", 'doesn', \"doesn't\", 'hadn', \"hadn't\", 'hasn', \"hasn't\", 'haven', \"haven't\", 'isn', \"isn't\", 'ma', 'mightn', \"mightn't\", 'mustn', \"mustn't\", 'needn', \"needn't\", 'shan', \"shan't\", 'shouldn', \"shouldn't\", 'wasn', \"wasn't\", 'weren', \"weren't\", 'won', \"won't\", 'wouldn', \"wouldn't\", '!', '\"', '#', '$', '%', '&', \"'\", '(', ')', '*', '+', ',', '-', '.', '/', ':', ';', '<', '=', '>', '?', '@', '[', '\\\\', ']', '^', '_', '`', '{', '|', '}', '~']\n"
     ]
    }
   ],
   "source": [
    "import string\n",
    "# print(list(string.punctuation))\n",
    "from nltk.corpus import stopwords\n",
    "# print(stopwords.words('english'))\n",
    "stop = stopwords.words('english')\n",
    "stop.extend(list(string.punctuation))\n",
    "print(stop)"
   ]
  },
  {
   "cell_type": "code",
   "execution_count": 9,
   "metadata": {},
   "outputs": [
    {
     "output_type": "execute_result",
     "data": {
      "text/plain": [
       "                  tweetid                                              name  \\\n",
       "0     1383427464639115272                                     Mohit Bhutani   \n",
       "1     1383427463779217420                                         Deependra   \n",
       "2     1383427456456019968                                    Jamie Pedersen   \n",
       "3     1383427440211419136                                        Ram Gurjar   \n",
       "4     1383427428874285057                                   Wake Up Mr West   \n",
       "...                   ...                                               ...   \n",
       "9995  1382370962922995714                          Victoria #NoMasksInClass   \n",
       "9996  1382370963073998854  Phoenix Rising- Firey Mythological American Bird   \n",
       "9997  1382370965301075969                                        mzMolasses   \n",
       "9998  1382370958523183110                                      Steve Bishop   \n",
       "9999  1382370945604624386                                                kk   \n",
       "\n",
       "      inreplyuserid            createdat timezone  friendscount  \\\n",
       "0                -1  2021-04-17 14:29:45     None           374   \n",
       "1                -1  2021-04-17 14:29:44     None            85   \n",
       "2                -1  2021-04-17 14:29:43     None           684   \n",
       "3                -1  2021-04-17 14:29:39     None            35   \n",
       "4                -1  2021-04-17 14:29:36     None           160   \n",
       "...             ...                  ...      ...           ...   \n",
       "9995             -1  2021-04-14 16:31:35     None           595   \n",
       "9996             -1  2021-04-14 16:31:35     None           371   \n",
       "9997             -1  2021-04-14 16:31:35     None           223   \n",
       "9998             -1  2021-04-14 16:31:34     None          1133   \n",
       "9999             -1  2021-04-14 16:31:31     None           764   \n",
       "\n",
       "                      accountcreated             location  \\\n",
       "0     Wed Sep 01 13:47:19 +0000 2010      नई दिल्ली, भारत   \n",
       "1     Fri Mar 01 09:33:58 +0000 2019                 None   \n",
       "2     Thu Mar 24 03:22:54 +0000 2016                 None   \n",
       "3     Mon Mar 08 03:54:44 +0000 2021                 None   \n",
       "4     Thu Apr 24 22:31:35 +0000 2014                 None   \n",
       "...                              ...                  ...   \n",
       "9995  Sat May 21 13:04:08 +0000 2011                 None   \n",
       "9996  Sat Dec 22 16:48:11 +0000 2018                  USA   \n",
       "9997  Mon Feb 08 20:03:33 +0000 2010      California, USA   \n",
       "9998  Thu Oct 25 22:15:23 +0000 2018  South West, England   \n",
       "9999  Fri May 24 03:29:18 +0000 2013                 hell   \n",
       "\n",
       "                   userid xcoordinate  ... retweetcount utcoffset  \\\n",
       "0               185640437        None  ...            0      None   \n",
       "1     1101415269069598720        None  ...            0      None   \n",
       "2      712842098228105216        None  ...            0      None   \n",
       "3     1368772096306778113        None  ...            0      None   \n",
       "4              2462304828        None  ...            0      None   \n",
       "...                   ...         ...  ...          ...       ...   \n",
       "9995            302596372        None  ...            0      None   \n",
       "9996  1076519780910358528        None  ...            0      None   \n",
       "9997            112518914        None  ...            0      None   \n",
       "9998  1055583626564386816        None  ...            0      None   \n",
       "9999           1453100268        None  ...            0      None   \n",
       "\n",
       "      ycoordinate    dataagent  place  inreplyscreenname  category annotation  \\\n",
       "0            None  JS Listener   None               None  vaccine          -1   \n",
       "1            None  JS Listener   None               None  vaccine          -1   \n",
       "2            None  JS Listener   None               None  vaccine          -1   \n",
       "3            None  JS Listener   None               None  vaccine          -1   \n",
       "4            None  JS Listener   None               None  vaccine          -1   \n",
       "...           ...          ...    ...                ...       ...        ...   \n",
       "9995         None  JS Listener   None               None  vaccine          -1   \n",
       "9996         None  JS Listener   None               None  vaccine          -1   \n",
       "9997         None  JS Listener   None               None  vaccine          -1   \n",
       "9998         None  JS Listener   None               None  vaccine          -1   \n",
       "9999         None  JS Listener   None               None  vaccine          -1   \n",
       "\n",
       "                                     message_basicClean  \\\n",
       "0     We need humility, a clear vaccine strategy &am...   \n",
       "1     We need humility, a clear vaccine strategy &am...   \n",
       "2     Fauci admits to LYING about Covid-19 herd immu...   \n",
       "3     We need humility, a clear vaccine strategy &am...   \n",
       "4     9/11 was an inside job Man did not land on the...   \n",
       "...                                                 ...   \n",
       "9995  Once vaccinated, you’re likely to avoid seriou...   \n",
       "9996  Corporate America is pushing freedom-killing v...   \n",
       "9997  When someone voluntarily tweets about the side...   \n",
       "9998  Once vaccinated, you’re likely to avoid seriou...   \n",
       "9999  It$q$s wild that everyone is freaking out abou...   \n",
       "\n",
       "                                            word_tokens  \n",
       "0     [need, humility, clear, vaccine, strategy, amp...  \n",
       "1     [need, humility, clear, vaccine, strategy, amp...  \n",
       "2     [Fauci, admits, LYING, Covid-19, herd, immunit...  \n",
       "3     [need, humility, clear, vaccine, strategy, amp...  \n",
       "4     [9/11, inside, job, Man, land, moon, Evolution...  \n",
       "...                                                 ...  \n",
       "9995  [vaccinated, ’, likely, avoid, serious, illnes...  \n",
       "9996  [Corporate, America, pushing, freedom-killing,...  \n",
       "9997  [someone, voluntarily, tweets, side, effects, ...  \n",
       "9998  [vaccinated, ’, likely, avoid, serious, illnes...  \n",
       "9999  [q, wild, everyone, freaking, AZ, vaccine, cau...  \n",
       "\n",
       "[10000 rows x 25 columns]"
      ],
      "text/html": "<div>\n<style scoped>\n    .dataframe tbody tr th:only-of-type {\n        vertical-align: middle;\n    }\n\n    .dataframe tbody tr th {\n        vertical-align: top;\n    }\n\n    .dataframe thead th {\n        text-align: right;\n    }\n</style>\n<table border=\"1\" class=\"dataframe\">\n  <thead>\n    <tr style=\"text-align: right;\">\n      <th></th>\n      <th>tweetid</th>\n      <th>name</th>\n      <th>inreplyuserid</th>\n      <th>createdat</th>\n      <th>timezone</th>\n      <th>friendscount</th>\n      <th>accountcreated</th>\n      <th>location</th>\n      <th>userid</th>\n      <th>xcoordinate</th>\n      <th>...</th>\n      <th>retweetcount</th>\n      <th>utcoffset</th>\n      <th>ycoordinate</th>\n      <th>dataagent</th>\n      <th>place</th>\n      <th>inreplyscreenname</th>\n      <th>category</th>\n      <th>annotation</th>\n      <th>message_basicClean</th>\n      <th>word_tokens</th>\n    </tr>\n  </thead>\n  <tbody>\n    <tr>\n      <th>0</th>\n      <td>1383427464639115272</td>\n      <td>Mohit Bhutani</td>\n      <td>-1</td>\n      <td>2021-04-17 14:29:45</td>\n      <td>None</td>\n      <td>374</td>\n      <td>Wed Sep 01 13:47:19 +0000 2010</td>\n      <td>नई दिल्ली, भारत</td>\n      <td>185640437</td>\n      <td>None</td>\n      <td>...</td>\n      <td>0</td>\n      <td>None</td>\n      <td>None</td>\n      <td>JS Listener</td>\n      <td>None</td>\n      <td>None</td>\n      <td>vaccine</td>\n      <td>-1</td>\n      <td>We need humility, a clear vaccine strategy &amp;am...</td>\n      <td>[need, humility, clear, vaccine, strategy, amp...</td>\n    </tr>\n    <tr>\n      <th>1</th>\n      <td>1383427463779217420</td>\n      <td>Deependra</td>\n      <td>-1</td>\n      <td>2021-04-17 14:29:44</td>\n      <td>None</td>\n      <td>85</td>\n      <td>Fri Mar 01 09:33:58 +0000 2019</td>\n      <td>None</td>\n      <td>1101415269069598720</td>\n      <td>None</td>\n      <td>...</td>\n      <td>0</td>\n      <td>None</td>\n      <td>None</td>\n      <td>JS Listener</td>\n      <td>None</td>\n      <td>None</td>\n      <td>vaccine</td>\n      <td>-1</td>\n      <td>We need humility, a clear vaccine strategy &amp;am...</td>\n      <td>[need, humility, clear, vaccine, strategy, amp...</td>\n    </tr>\n    <tr>\n      <th>2</th>\n      <td>1383427456456019968</td>\n      <td>Jamie Pedersen</td>\n      <td>-1</td>\n      <td>2021-04-17 14:29:43</td>\n      <td>None</td>\n      <td>684</td>\n      <td>Thu Mar 24 03:22:54 +0000 2016</td>\n      <td>None</td>\n      <td>712842098228105216</td>\n      <td>None</td>\n      <td>...</td>\n      <td>0</td>\n      <td>None</td>\n      <td>None</td>\n      <td>JS Listener</td>\n      <td>None</td>\n      <td>None</td>\n      <td>vaccine</td>\n      <td>-1</td>\n      <td>Fauci admits to LYING about Covid-19 herd immu...</td>\n      <td>[Fauci, admits, LYING, Covid-19, herd, immunit...</td>\n    </tr>\n    <tr>\n      <th>3</th>\n      <td>1383427440211419136</td>\n      <td>Ram Gurjar</td>\n      <td>-1</td>\n      <td>2021-04-17 14:29:39</td>\n      <td>None</td>\n      <td>35</td>\n      <td>Mon Mar 08 03:54:44 +0000 2021</td>\n      <td>None</td>\n      <td>1368772096306778113</td>\n      <td>None</td>\n      <td>...</td>\n      <td>0</td>\n      <td>None</td>\n      <td>None</td>\n      <td>JS Listener</td>\n      <td>None</td>\n      <td>None</td>\n      <td>vaccine</td>\n      <td>-1</td>\n      <td>We need humility, a clear vaccine strategy &amp;am...</td>\n      <td>[need, humility, clear, vaccine, strategy, amp...</td>\n    </tr>\n    <tr>\n      <th>4</th>\n      <td>1383427428874285057</td>\n      <td>Wake Up Mr West</td>\n      <td>-1</td>\n      <td>2021-04-17 14:29:36</td>\n      <td>None</td>\n      <td>160</td>\n      <td>Thu Apr 24 22:31:35 +0000 2014</td>\n      <td>None</td>\n      <td>2462304828</td>\n      <td>None</td>\n      <td>...</td>\n      <td>0</td>\n      <td>None</td>\n      <td>None</td>\n      <td>JS Listener</td>\n      <td>None</td>\n      <td>None</td>\n      <td>vaccine</td>\n      <td>-1</td>\n      <td>9/11 was an inside job Man did not land on the...</td>\n      <td>[9/11, inside, job, Man, land, moon, Evolution...</td>\n    </tr>\n    <tr>\n      <th>...</th>\n      <td>...</td>\n      <td>...</td>\n      <td>...</td>\n      <td>...</td>\n      <td>...</td>\n      <td>...</td>\n      <td>...</td>\n      <td>...</td>\n      <td>...</td>\n      <td>...</td>\n      <td>...</td>\n      <td>...</td>\n      <td>...</td>\n      <td>...</td>\n      <td>...</td>\n      <td>...</td>\n      <td>...</td>\n      <td>...</td>\n      <td>...</td>\n      <td>...</td>\n      <td>...</td>\n    </tr>\n    <tr>\n      <th>9995</th>\n      <td>1382370962922995714</td>\n      <td>Victoria #NoMasksInClass</td>\n      <td>-1</td>\n      <td>2021-04-14 16:31:35</td>\n      <td>None</td>\n      <td>595</td>\n      <td>Sat May 21 13:04:08 +0000 2011</td>\n      <td>None</td>\n      <td>302596372</td>\n      <td>None</td>\n      <td>...</td>\n      <td>0</td>\n      <td>None</td>\n      <td>None</td>\n      <td>JS Listener</td>\n      <td>None</td>\n      <td>None</td>\n      <td>vaccine</td>\n      <td>-1</td>\n      <td>Once vaccinated, you’re likely to avoid seriou...</td>\n      <td>[vaccinated, ’, likely, avoid, serious, illnes...</td>\n    </tr>\n    <tr>\n      <th>9996</th>\n      <td>1382370963073998854</td>\n      <td>Phoenix Rising- Firey Mythological American Bird</td>\n      <td>-1</td>\n      <td>2021-04-14 16:31:35</td>\n      <td>None</td>\n      <td>371</td>\n      <td>Sat Dec 22 16:48:11 +0000 2018</td>\n      <td>USA</td>\n      <td>1076519780910358528</td>\n      <td>None</td>\n      <td>...</td>\n      <td>0</td>\n      <td>None</td>\n      <td>None</td>\n      <td>JS Listener</td>\n      <td>None</td>\n      <td>None</td>\n      <td>vaccine</td>\n      <td>-1</td>\n      <td>Corporate America is pushing freedom-killing v...</td>\n      <td>[Corporate, America, pushing, freedom-killing,...</td>\n    </tr>\n    <tr>\n      <th>9997</th>\n      <td>1382370965301075969</td>\n      <td>mzMolasses</td>\n      <td>-1</td>\n      <td>2021-04-14 16:31:35</td>\n      <td>None</td>\n      <td>223</td>\n      <td>Mon Feb 08 20:03:33 +0000 2010</td>\n      <td>California, USA</td>\n      <td>112518914</td>\n      <td>None</td>\n      <td>...</td>\n      <td>0</td>\n      <td>None</td>\n      <td>None</td>\n      <td>JS Listener</td>\n      <td>None</td>\n      <td>None</td>\n      <td>vaccine</td>\n      <td>-1</td>\n      <td>When someone voluntarily tweets about the side...</td>\n      <td>[someone, voluntarily, tweets, side, effects, ...</td>\n    </tr>\n    <tr>\n      <th>9998</th>\n      <td>1382370958523183110</td>\n      <td>Steve Bishop</td>\n      <td>-1</td>\n      <td>2021-04-14 16:31:34</td>\n      <td>None</td>\n      <td>1133</td>\n      <td>Thu Oct 25 22:15:23 +0000 2018</td>\n      <td>South West, England</td>\n      <td>1055583626564386816</td>\n      <td>None</td>\n      <td>...</td>\n      <td>0</td>\n      <td>None</td>\n      <td>None</td>\n      <td>JS Listener</td>\n      <td>None</td>\n      <td>None</td>\n      <td>vaccine</td>\n      <td>-1</td>\n      <td>Once vaccinated, you’re likely to avoid seriou...</td>\n      <td>[vaccinated, ’, likely, avoid, serious, illnes...</td>\n    </tr>\n    <tr>\n      <th>9999</th>\n      <td>1382370945604624386</td>\n      <td>kk</td>\n      <td>-1</td>\n      <td>2021-04-14 16:31:31</td>\n      <td>None</td>\n      <td>764</td>\n      <td>Fri May 24 03:29:18 +0000 2013</td>\n      <td>hell</td>\n      <td>1453100268</td>\n      <td>None</td>\n      <td>...</td>\n      <td>0</td>\n      <td>None</td>\n      <td>None</td>\n      <td>JS Listener</td>\n      <td>None</td>\n      <td>None</td>\n      <td>vaccine</td>\n      <td>-1</td>\n      <td>It$q$s wild that everyone is freaking out abou...</td>\n      <td>[q, wild, everyone, freaking, AZ, vaccine, cau...</td>\n    </tr>\n  </tbody>\n</table>\n<p>10000 rows × 25 columns</p>\n</div>"
     },
     "metadata": {},
     "execution_count": 9
    }
   ],
   "source": [
    "simple_clean(df_anti,'message','message_basicClean')\n",
    "clean_tweet(df_anti,'message_basicClean','word_tokens')\n",
    "df_anti"
   ]
  },
  {
   "cell_type": "code",
   "execution_count": 11,
   "metadata": {},
   "outputs": [
    {
     "output_type": "execute_result",
     "data": {
      "text/plain": [
       "[('need', 'NN'),\n",
       " ('humility', 'NN'),\n",
       " ('clear', 'JJ'),\n",
       " ('vaccine', 'NN'),\n",
       " ('strategy', 'NN'),\n",
       " ('amp', 'JJ'),\n",
       " ('income', 'NN'),\n",
       " ('support', 'NN'),\n",
       " ('contain', 'VBP'),\n",
       " ('virus', 'NN'),\n",
       " ('related', 'VBN'),\n",
       " ('damage', 'NN'),\n",
       " ('GOI', 'NNP'),\n",
       " ('’', 'NNP'),\n",
       " ('mix', 'NN'),\n",
       " ('arrog', 'NN')]"
      ]
     },
     "metadata": {},
     "execution_count": 11
    }
   ],
   "source": [
    "text = df_anti['word_tokens'][0]\n",
    "pos_tag = nltk.pos_tag\n",
    "pos_tag(text)"
   ]
  }
 ]
}